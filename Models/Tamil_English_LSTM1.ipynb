{
  "cells": [
    {
      "cell_type": "markdown",
      "metadata": {
        "id": "EzK1y7szxpoG"
      },
      "source": [
        "Dependencies"
      ]
    },
    {
      "cell_type": "code",
      "execution_count": null,
      "metadata": {
        "colab": {
          "base_uri": "https://localhost:8080/"
        },
        "id": "Bu_NrwkkvZjU",
        "outputId": "1554e44c-c159-4984-be51-2f6499ffc7b8"
      },
      "outputs": [
        {
          "output_type": "stream",
          "name": "stdout",
          "text": [
            "Looking in indexes: https://pypi.org/simple, https://us-python.pkg.dev/colab-wheels/public/simple/\n",
            "Requirement already satisfied: tensorflow in /usr/local/lib/python3.7/dist-packages (2.9.2)\n",
            "Requirement already satisfied: tensorflow-io-gcs-filesystem>=0.23.1 in /usr/local/lib/python3.7/dist-packages (from tensorflow) (0.27.0)\n",
            "Requirement already satisfied: astunparse>=1.6.0 in /usr/local/lib/python3.7/dist-packages (from tensorflow) (1.6.3)\n",
            "Requirement already satisfied: packaging in /usr/local/lib/python3.7/dist-packages (from tensorflow) (21.3)\n",
            "Requirement already satisfied: tensorboard<2.10,>=2.9 in /usr/local/lib/python3.7/dist-packages (from tensorflow) (2.9.1)\n",
            "Requirement already satisfied: protobuf<3.20,>=3.9.2 in /usr/local/lib/python3.7/dist-packages (from tensorflow) (3.19.6)\n",
            "Requirement already satisfied: gast<=0.4.0,>=0.2.1 in /usr/local/lib/python3.7/dist-packages (from tensorflow) (0.4.0)\n",
            "Requirement already satisfied: tensorflow-estimator<2.10.0,>=2.9.0rc0 in /usr/local/lib/python3.7/dist-packages (from tensorflow) (2.9.0)\n",
            "Requirement already satisfied: flatbuffers<2,>=1.12 in /usr/local/lib/python3.7/dist-packages (from tensorflow) (1.12)\n",
            "Requirement already satisfied: libclang>=13.0.0 in /usr/local/lib/python3.7/dist-packages (from tensorflow) (14.0.6)\n",
            "Requirement already satisfied: typing-extensions>=3.6.6 in /usr/local/lib/python3.7/dist-packages (from tensorflow) (4.1.1)\n",
            "Requirement already satisfied: keras-preprocessing>=1.1.1 in /usr/local/lib/python3.7/dist-packages (from tensorflow) (1.1.2)\n",
            "Requirement already satisfied: grpcio<2.0,>=1.24.3 in /usr/local/lib/python3.7/dist-packages (from tensorflow) (1.50.0)\n",
            "Requirement already satisfied: setuptools in /usr/local/lib/python3.7/dist-packages (from tensorflow) (57.4.0)\n",
            "Requirement already satisfied: termcolor>=1.1.0 in /usr/local/lib/python3.7/dist-packages (from tensorflow) (2.1.0)\n",
            "Requirement already satisfied: opt-einsum>=2.3.2 in /usr/local/lib/python3.7/dist-packages (from tensorflow) (3.3.0)\n",
            "Requirement already satisfied: six>=1.12.0 in /usr/local/lib/python3.7/dist-packages (from tensorflow) (1.15.0)\n",
            "Requirement already satisfied: h5py>=2.9.0 in /usr/local/lib/python3.7/dist-packages (from tensorflow) (3.1.0)\n",
            "Requirement already satisfied: wrapt>=1.11.0 in /usr/local/lib/python3.7/dist-packages (from tensorflow) (1.14.1)\n",
            "Requirement already satisfied: google-pasta>=0.1.1 in /usr/local/lib/python3.7/dist-packages (from tensorflow) (0.2.0)\n",
            "Requirement already satisfied: keras<2.10.0,>=2.9.0rc0 in /usr/local/lib/python3.7/dist-packages (from tensorflow) (2.9.0)\n",
            "Requirement already satisfied: absl-py>=1.0.0 in /usr/local/lib/python3.7/dist-packages (from tensorflow) (1.3.0)\n",
            "Requirement already satisfied: numpy>=1.20 in /usr/local/lib/python3.7/dist-packages (from tensorflow) (1.21.6)\n",
            "Requirement already satisfied: wheel<1.0,>=0.23.0 in /usr/local/lib/python3.7/dist-packages (from astunparse>=1.6.0->tensorflow) (0.38.3)\n",
            "Requirement already satisfied: cached-property in /usr/local/lib/python3.7/dist-packages (from h5py>=2.9.0->tensorflow) (1.5.2)\n",
            "Requirement already satisfied: tensorboard-data-server<0.7.0,>=0.6.0 in /usr/local/lib/python3.7/dist-packages (from tensorboard<2.10,>=2.9->tensorflow) (0.6.1)\n",
            "Requirement already satisfied: tensorboard-plugin-wit>=1.6.0 in /usr/local/lib/python3.7/dist-packages (from tensorboard<2.10,>=2.9->tensorflow) (1.8.1)\n",
            "Requirement already satisfied: werkzeug>=1.0.1 in /usr/local/lib/python3.7/dist-packages (from tensorboard<2.10,>=2.9->tensorflow) (1.0.1)\n",
            "Requirement already satisfied: requests<3,>=2.21.0 in /usr/local/lib/python3.7/dist-packages (from tensorboard<2.10,>=2.9->tensorflow) (2.23.0)\n",
            "Requirement already satisfied: google-auth-oauthlib<0.5,>=0.4.1 in /usr/local/lib/python3.7/dist-packages (from tensorboard<2.10,>=2.9->tensorflow) (0.4.6)\n",
            "Requirement already satisfied: markdown>=2.6.8 in /usr/local/lib/python3.7/dist-packages (from tensorboard<2.10,>=2.9->tensorflow) (3.4.1)\n",
            "Requirement already satisfied: google-auth<3,>=1.6.3 in /usr/local/lib/python3.7/dist-packages (from tensorboard<2.10,>=2.9->tensorflow) (2.14.1)\n",
            "Requirement already satisfied: pyasn1-modules>=0.2.1 in /usr/local/lib/python3.7/dist-packages (from google-auth<3,>=1.6.3->tensorboard<2.10,>=2.9->tensorflow) (0.2.8)\n",
            "Requirement already satisfied: cachetools<6.0,>=2.0.0 in /usr/local/lib/python3.7/dist-packages (from google-auth<3,>=1.6.3->tensorboard<2.10,>=2.9->tensorflow) (5.2.0)\n",
            "Requirement already satisfied: rsa<5,>=3.1.4 in /usr/local/lib/python3.7/dist-packages (from google-auth<3,>=1.6.3->tensorboard<2.10,>=2.9->tensorflow) (4.9)\n",
            "Requirement already satisfied: requests-oauthlib>=0.7.0 in /usr/local/lib/python3.7/dist-packages (from google-auth-oauthlib<0.5,>=0.4.1->tensorboard<2.10,>=2.9->tensorflow) (1.3.1)\n",
            "Requirement already satisfied: importlib-metadata>=4.4 in /usr/local/lib/python3.7/dist-packages (from markdown>=2.6.8->tensorboard<2.10,>=2.9->tensorflow) (4.13.0)\n",
            "Requirement already satisfied: zipp>=0.5 in /usr/local/lib/python3.7/dist-packages (from importlib-metadata>=4.4->markdown>=2.6.8->tensorboard<2.10,>=2.9->tensorflow) (3.10.0)\n",
            "Requirement already satisfied: pyasn1<0.5.0,>=0.4.6 in /usr/local/lib/python3.7/dist-packages (from pyasn1-modules>=0.2.1->google-auth<3,>=1.6.3->tensorboard<2.10,>=2.9->tensorflow) (0.4.8)\n",
            "Requirement already satisfied: idna<3,>=2.5 in /usr/local/lib/python3.7/dist-packages (from requests<3,>=2.21.0->tensorboard<2.10,>=2.9->tensorflow) (2.10)\n",
            "Requirement already satisfied: certifi>=2017.4.17 in /usr/local/lib/python3.7/dist-packages (from requests<3,>=2.21.0->tensorboard<2.10,>=2.9->tensorflow) (2022.9.24)\n",
            "Requirement already satisfied: urllib3!=1.25.0,!=1.25.1,<1.26,>=1.21.1 in /usr/local/lib/python3.7/dist-packages (from requests<3,>=2.21.0->tensorboard<2.10,>=2.9->tensorflow) (1.24.3)\n",
            "Requirement already satisfied: chardet<4,>=3.0.2 in /usr/local/lib/python3.7/dist-packages (from requests<3,>=2.21.0->tensorboard<2.10,>=2.9->tensorflow) (3.0.4)\n",
            "Requirement already satisfied: oauthlib>=3.0.0 in /usr/local/lib/python3.7/dist-packages (from requests-oauthlib>=0.7.0->google-auth-oauthlib<0.5,>=0.4.1->tensorboard<2.10,>=2.9->tensorflow) (3.2.2)\n",
            "Requirement already satisfied: pyparsing!=3.0.5,>=2.0.2 in /usr/local/lib/python3.7/dist-packages (from packaging->tensorflow) (3.0.9)\n",
            "Looking in indexes: https://pypi.org/simple, https://us-python.pkg.dev/colab-wheels/public/simple/\n",
            "Requirement already satisfied: Keras in /usr/local/lib/python3.7/dist-packages (2.9.0)\n"
          ]
        }
      ],
      "source": [
        "!pip install tensorflow\n",
        "!pip install Keras"
      ]
    },
    {
      "cell_type": "code",
      "execution_count": 1,
      "metadata": {
        "id": "i07Ebcn1vfb5"
      },
      "outputs": [],
      "source": [
        "import pandas as pd\n",
        "import numpy as np\n",
        "import tensorflow as tf\n",
        "from keras.backend import set_session\n",
        "import collections\n",
        "from keras.preprocessing.text import Tokenizer\n",
        "from keras_preprocessing.sequence import pad_sequences\n",
        "import os\n",
        "from keras.models import load_model\n",
        "from keras.layers import GRU, Input, Dense, TimeDistributed\n",
        "from keras.models import Model, Sequential\n",
        "from keras.layers import Activation\n",
        "from keras.optimizers import Adam\n",
        "from keras.losses import sparse_categorical_crossentropy\n",
        "import matplotlib.pyplot as plt\n",
        "from tensorflow.keras.layers import Embedding\n",
        "from keras.layers import LSTM\n",
        "from keras.layers import Bidirectional\n",
        "from keras.layers import RepeatVector\n",
        "from keras import losses\n",
        "from keras.optimizers import SGD\n",
        "from keras.layers import RepeatVector"
      ]
    },
    {
      "cell_type": "markdown",
      "metadata": {
        "id": "KnbY25b4yCN-"
      },
      "source": [
        "Loading Data"
      ]
    },
    {
      "cell_type": "code",
      "execution_count": 2,
      "metadata": {
        "colab": {
          "base_uri": "https://localhost:8080/"
        },
        "id": "dSIuNBqGwnxb",
        "outputId": "bbe1d760-966c-4215-8fa8-b80f7f77261b"
      },
      "outputs": [
        {
          "output_type": "stream",
          "name": "stdout",
          "text": [
            "Mounted at /content/drive\n"
          ]
        }
      ],
      "source": [
        "from google.colab import drive\n",
        "drive.mount('/content/drive')"
      ]
    },
    {
      "cell_type": "code",
      "execution_count": 3,
      "metadata": {
        "id": "6H0Zn1EixVM2"
      },
      "outputs": [],
      "source": [
        "f = open('/content/drive/MyDrive/Tamil.txt', 'r+', encoding=\"utf8\")\n",
        "x = f.readlines()"
      ]
    },
    {
      "cell_type": "code",
      "execution_count": 4,
      "metadata": {
        "id": "rRWntGfKyH8_"
      },
      "outputs": [],
      "source": [
        "f = open('/content/drive/MyDrive/English.txt', 'r+', encoding=\"utf8\")\n",
        "y = f.readlines()"
      ]
    },
    {
      "cell_type": "code",
      "execution_count": 5,
      "metadata": {
        "colab": {
          "base_uri": "https://localhost:8080/"
        },
        "id": "Dq8KUVhTyL1Q",
        "outputId": "dd4fa24d-d5ce-4a43-cee6-e456e280e6ae"
      },
      "outputs": [
        {
          "output_type": "execute_result",
          "data": {
            "text/plain": [
              "2000"
            ]
          },
          "metadata": {},
          "execution_count": 5
        }
      ],
      "source": [
        "x = x[0:2000]\n",
        "len(x)"
      ]
    },
    {
      "cell_type": "code",
      "execution_count": 6,
      "metadata": {
        "id": "AfnUssOPyNqO"
      },
      "outputs": [],
      "source": [
        "y = y[0:2000]"
      ]
    },
    {
      "cell_type": "markdown",
      "metadata": {
        "id": "k_eMq-J1yuMJ"
      },
      "source": [
        "Text Preprocessing"
      ]
    },
    {
      "cell_type": "code",
      "execution_count": 7,
      "metadata": {
        "id": "JjzYxIvKyxVN"
      },
      "outputs": [],
      "source": [
        "x[0]= x[0].strip('\\ufeffMMA')\n",
        "y[0]= y[0].strip('\\ufeffMMA')"
      ]
    },
    {
      "cell_type": "code",
      "execution_count": 8,
      "metadata": {
        "id": "T_s21QpIyjY1"
      },
      "outputs": [],
      "source": [
        "import string\n",
        "exclude = set(string.punctuation)\n",
        "for i in range(0,len(x)):\n",
        "    x[i] = x[i].strip('\\n')\n",
        "    x[i] = ''.join(ch for ch in x[i] if ch not in exclude)"
      ]
    },
    {
      "cell_type": "code",
      "execution_count": 9,
      "metadata": {
        "id": "b8rNHktbymlY"
      },
      "outputs": [],
      "source": [
        "for i in range(0,len(y)):\n",
        "    y[i] = y[i].lower()\n",
        "    y[i] = y[i].strip('\\n')\n",
        "    y[i] = ''.join(ch for ch in y[i] if ch not in exclude)"
      ]
    },
    {
      "cell_type": "markdown",
      "metadata": {
        "id": "So7_t2x4zF-5"
      },
      "source": [
        "Cleaned text"
      ]
    },
    {
      "cell_type": "code",
      "execution_count": 10,
      "metadata": {
        "colab": {
          "base_uri": "https://localhost:8080/"
        },
        "id": "Mj9ZQvtqyozN",
        "outputId": "aced4fcb-af82-4cb4-b1e5-cd0ff8f4c8ad"
      },
      "outputs": [
        {
          "output_type": "stream",
          "name": "stdout",
          "text": [
            "Tamil Text: சமீபகாலத்தில் சில தகவல்கள் யூலியஸ் ரோசன்பேர்க் ஒரு வித உளவுச்செய்தியை சோவியத் அதிகாரிகளுக்கு இரண்டாம் உலகப்போரின்போது அனுப்பியதில் சம்பந்தப்பட்டு இருந்ததாக வெளிவந்துள்ளன \n",
            "\n",
            "English Text: information has surfaced in recent years suggesting that julius rosenberg was involved in passing some form of intelligence to soviet officials during the second world war\n"
          ]
        }
      ],
      "source": [
        "print(\"Tamil Text:\",x[1],\"\\n\")\n",
        "print(\"English Text:\",y[1])"
      ]
    },
    {
      "cell_type": "code",
      "execution_count": 11,
      "metadata": {
        "colab": {
          "base_uri": "https://localhost:8080/"
        },
        "id": "PevKxYcPy0rr",
        "outputId": "f6323a92-1f43-4de5-ba09-2a96f8337021"
      },
      "outputs": [
        {
          "output_type": "execute_result",
          "data": {
            "text/plain": [
              "2000"
            ]
          },
          "metadata": {},
          "execution_count": 11
        }
      ],
      "source": [
        "len(x)"
      ]
    },
    {
      "cell_type": "code",
      "execution_count": 12,
      "metadata": {
        "colab": {
          "base_uri": "https://localhost:8080/"
        },
        "id": "q2lguKtky3RS",
        "outputId": "2255e9d5-7978-4b64-d445-55a5932f42e9"
      },
      "outputs": [
        {
          "output_type": "execute_result",
          "data": {
            "text/plain": [
              "2000"
            ]
          },
          "metadata": {},
          "execution_count": 12
        }
      ],
      "source": [
        "len(y)"
      ]
    },
    {
      "cell_type": "code",
      "execution_count": 13,
      "metadata": {
        "id": "anCGZd0Hy4yq"
      },
      "outputs": [],
      "source": [
        "english_words = []\n",
        "for i in range(0,len(y)):\n",
        "    english_words.append(y[i].split())   "
      ]
    },
    {
      "cell_type": "code",
      "execution_count": 14,
      "metadata": {
        "id": "8ktzYGOxy64E"
      },
      "outputs": [],
      "source": [
        "english_words = [j for sub in english_words for j in sub]"
      ]
    },
    {
      "cell_type": "code",
      "execution_count": 15,
      "metadata": {
        "colab": {
          "base_uri": "https://localhost:8080/"
        },
        "id": "oFv3bF_yy9Bv",
        "outputId": "4401ca18-39d8-4314-d74f-b825ab84b7fb"
      },
      "outputs": [
        {
          "output_type": "stream",
          "name": "stdout",
          "text": [
            "Number of Unique English words: 8536\n"
          ]
        }
      ],
      "source": [
        "print(\"Number of Unique English words:\",len(set(english_words)))"
      ]
    },
    {
      "cell_type": "code",
      "execution_count": 16,
      "metadata": {
        "id": "yjwBqDbiy-hh"
      },
      "outputs": [],
      "source": [
        "tamil_words = []\n",
        "for i in range(0,len(x)):\n",
        "    tamil_words.append(x[i].split())  \n",
        "tamil_words = [j for sub in tamil_words for j in sub]"
      ]
    },
    {
      "cell_type": "code",
      "execution_count": 17,
      "metadata": {
        "colab": {
          "base_uri": "https://localhost:8080/"
        },
        "id": "pc9dw19WzAY1",
        "outputId": "a8eb85cc-5766-4956-af9b-59a1bf5e26be"
      },
      "outputs": [
        {
          "output_type": "stream",
          "name": "stdout",
          "text": [
            "Number of Unique Tamil words: 16010\n"
          ]
        }
      ],
      "source": [
        "print(\"Number of Unique Tamil words:\",len(set(tamil_words)))"
      ]
    },
    {
      "cell_type": "code",
      "execution_count": 18,
      "metadata": {
        "id": "dJF7L8sZzDeY"
      },
      "outputs": [],
      "source": [
        "tamilvocab = len(set(tamil_words))\n",
        "engvocab = len(set(english_words))"
      ]
    },
    {
      "cell_type": "code",
      "execution_count": 19,
      "metadata": {
        "id": "O2N7eN7DzLwX"
      },
      "outputs": [],
      "source": [
        "length_tamil=[]\n",
        "for i in range(0,len(x)):\n",
        "    length_tamil.append(len(x[i].split()))"
      ]
    },
    {
      "cell_type": "code",
      "execution_count": 20,
      "metadata": {
        "id": "A1FsJZ4hzPE7"
      },
      "outputs": [],
      "source": [
        "length_english=[]\n",
        "for i in range(0,len(y)):\n",
        "    length_english.append(len(y[i].split()))"
      ]
    },
    {
      "cell_type": "code",
      "execution_count": 21,
      "metadata": {
        "colab": {
          "base_uri": "https://localhost:8080/"
        },
        "id": "9Se33Cf9zQij",
        "outputId": "3a04c7e8-e620-43aa-ade3-5287a4b7035a"
      },
      "outputs": [
        {
          "output_type": "execute_result",
          "data": {
            "text/plain": [
              "22.8965"
            ]
          },
          "metadata": {},
          "execution_count": 21
        }
      ],
      "source": [
        "sum(length_english)/len(length_english)"
      ]
    },
    {
      "cell_type": "code",
      "execution_count": 22,
      "metadata": {
        "colab": {
          "base_uri": "https://localhost:8080/"
        },
        "id": "EqxNymDXzR9N",
        "outputId": "e43068d2-2be8-440b-ed7e-12cc5d03ad2f"
      },
      "outputs": [
        {
          "output_type": "execute_result",
          "data": {
            "text/plain": [
              "15.8825"
            ]
          },
          "metadata": {},
          "execution_count": 22
        }
      ],
      "source": [
        "sum(length_tamil)/len(length_tamil)"
      ]
    },
    {
      "cell_type": "code",
      "execution_count": 23,
      "metadata": {
        "colab": {
          "base_uri": "https://localhost:8080/"
        },
        "id": "mPbYN_QVzTVs",
        "outputId": "d2bae28e-ea5a-4909-e111-82b2ee00e052"
      },
      "outputs": [
        {
          "output_type": "stream",
          "name": "stdout",
          "text": [
            "112\n",
            "76\n"
          ]
        }
      ],
      "source": [
        "print(max(length_english))\n",
        "print(max(length_tamil))"
      ]
    },
    {
      "cell_type": "code",
      "execution_count": 24,
      "metadata": {
        "id": "f5uj9z25zVNj"
      },
      "outputs": [],
      "source": [
        "english_words_counter = collections.Counter([word for sentence in y for word in sentence.split()])\n",
        "tamil_words_counter = collections.Counter([word for sentence in x for word in sentence.split()])"
      ]
    },
    {
      "cell_type": "code",
      "execution_count": 25,
      "metadata": {
        "colab": {
          "base_uri": "https://localhost:8080/"
        },
        "id": "OdELskPpzXoy",
        "outputId": "504bdfa3-99d1-43b7-aeca-a910cad55885"
      },
      "outputs": [
        {
          "output_type": "execute_result",
          "data": {
            "text/plain": [
              "[('the', 3786),\n",
              " ('of', 1747),\n",
              " ('and', 1620),\n",
              " ('to', 1253),\n",
              " ('in', 1052),\n",
              " ('a', 820),\n",
              " ('that', 587),\n",
              " ('for', 450),\n",
              " ('is', 448),\n",
              " ('on', 347)]"
            ]
          },
          "metadata": {},
          "execution_count": 25
        }
      ],
      "source": [
        "english_words_counter.most_common(10)"
      ]
    },
    {
      "cell_type": "code",
      "execution_count": 26,
      "metadata": {
        "colab": {
          "base_uri": "https://localhost:8080/"
        },
        "id": "L0Nc2UX-zZUq",
        "outputId": "32427f20-8eed-4c1a-f7dd-25827eec84a9"
      },
      "outputs": [
        {
          "output_type": "execute_result",
          "data": {
            "text/plain": [
              "[('ஒரு', 319),\n",
              " ('மற்றும்', 316),\n",
              " ('என்று', 262),\n",
              " ('இந்த', 195),\n",
              " ('அவர்', 129),\n",
              " ('அமெரிக்க', 106),\n",
              " ('அரசியல்', 88),\n",
              " ('அவர்கள்', 86),\n",
              " ('நான்', 83),\n",
              " ('என்ற', 82)]"
            ]
          },
          "metadata": {},
          "execution_count": 26
        }
      ],
      "source": [
        "tamil_words_counter.most_common(10)"
      ]
    },
    {
      "cell_type": "markdown",
      "metadata": {
        "id": "KlshGlbWzkLn"
      },
      "source": [
        "Tokenizer"
      ]
    },
    {
      "cell_type": "code",
      "execution_count": null,
      "metadata": {
        "colab": {
          "base_uri": "https://localhost:8080/"
        },
        "id": "bta2vfjBz6kz",
        "outputId": "37b7e361-ef3b-42b2-cb6f-7077f18d1cd3"
      },
      "outputs": [
        {
          "output_type": "stream",
          "name": "stdout",
          "text": [
            "Looking in indexes: https://pypi.org/simple, https://us-python.pkg.dev/colab-wheels/public/simple/\n",
            "Requirement already satisfied: protobuf==3.8.0 in /usr/local/lib/python3.7/dist-packages (3.8.0)\n",
            "Requirement already satisfied: setuptools in /usr/local/lib/python3.7/dist-packages (from protobuf==3.8.0) (57.4.0)\n",
            "Requirement already satisfied: six>=1.9 in /usr/local/lib/python3.7/dist-packages (from protobuf==3.8.0) (1.15.0)\n"
          ]
        }
      ],
      "source": [
        "!pip install -U protobuf==3.8.0"
      ]
    },
    {
      "cell_type": "code",
      "execution_count": null,
      "metadata": {
        "id": "QelDS1l0zeus"
      },
      "outputs": [],
      "source": [
        "# config = tf.compat.v1.ConfigProto\n",
        "# config.gpu_options.per_process_gpu_memory_fraction = 0.3\n",
        "# set_session(tf.Session(config=config))"
      ]
    },
    {
      "cell_type": "code",
      "execution_count": 27,
      "metadata": {
        "id": "PReTbqCxzscd"
      },
      "outputs": [],
      "source": [
        "from keras.preprocessing.text import Tokenizer\n",
        "def tokenize(x):\n",
        "    tokenizer = Tokenizer()\n",
        "    tokenizer.fit_on_texts(x) \n",
        "    return tokenizer.texts_to_sequences(x), tokenizer"
      ]
    },
    {
      "cell_type": "code",
      "execution_count": 28,
      "metadata": {
        "colab": {
          "base_uri": "https://localhost:8080/",
          "height": 35
        },
        "id": "00b4PpVE08Er",
        "outputId": "f25f166b-72ef-498a-8be3-7cd66b3f9f07"
      },
      "outputs": [
        {
          "output_type": "execute_result",
          "data": {
            "text/plain": [
              "' கட்சியின் துணைத்தலைவர் க்வாஸி ஹுசேன் அகமத் சென்ற மாதம் பின்வருமாறு அறிவித்தார் நாங்கள் தீவிரவாதிகள் அல்ல'"
            ],
            "application/vnd.google.colaboratory.intrinsic+json": {
              "type": "string"
            }
          },
          "metadata": {},
          "execution_count": 28
        }
      ],
      "source": [
        "x[0]"
      ]
    },
    {
      "cell_type": "code",
      "execution_count": 29,
      "metadata": {
        "colab": {
          "base_uri": "https://localhost:8080/"
        },
        "id": "Hbk0Zjea090P",
        "outputId": "869c5261-a660-4631-d23b-1eb38086ff86"
      },
      "outputs": [
        {
          "output_type": "execute_result",
          "data": {
            "text/plain": [
              "[3767,\n",
              " 53,\n",
              " 747,\n",
              " 3768,\n",
              " 3769,\n",
              " 1,\n",
              " 3770,\n",
              " 3771,\n",
              " 326,\n",
              " 1297,\n",
              " 1298,\n",
              " 3772,\n",
              " 3773,\n",
              " 3774,\n",
              " 1975,\n",
              " 3775]"
            ]
          },
          "metadata": {},
          "execution_count": 29
        }
      ],
      "source": [
        "z=(tokenize(x))\n",
        "z[0][1]"
      ]
    },
    {
      "cell_type": "code",
      "source": [
        "z[1]"
      ],
      "metadata": {
        "colab": {
          "base_uri": "https://localhost:8080/"
        },
        "id": "GbHWpZl0_31y",
        "outputId": "921939ef-bab2-443a-dea8-79f053f74c76"
      },
      "execution_count": 30,
      "outputs": [
        {
          "output_type": "execute_result",
          "data": {
            "text/plain": [
              "<keras.preprocessing.text.Tokenizer at 0x7f2ff7b60ad0>"
            ]
          },
          "metadata": {},
          "execution_count": 30
        }
      ]
    },
    {
      "cell_type": "code",
      "execution_count": 31,
      "metadata": {
        "colab": {
          "base_uri": "https://localhost:8080/"
        },
        "id": "HtJwQ4Q40_pQ",
        "outputId": "d3651e1a-ae73-44bf-b041-7abfc7acd726"
      },
      "outputs": [
        {
          "output_type": "stream",
          "name": "stdout",
          "text": [
            "{'the': 1, 'quick': 2, 'brown': 3, 'fox': 4, 'jumps': 5, 'over': 6, 'lazy': 7, 'dog': 8, 'by': 9, 'jove': 10, 'my': 11, 'study': 12, 'of': 13, 'lexicography': 14, 'won': 15, 'a': 16, 'prize': 17}\n",
            "\n",
            "Sequence 1 in x\n",
            "  Input:  The quick brown fox jumps over the lazy dog .\n",
            "  Output: [1, 2, 3, 4, 5, 6, 1, 7, 8]\n",
            "Sequence 2 in x\n",
            "  Input:  By Jove , my quick study of lexicography won a prize .\n",
            "  Output: [9, 10, 11, 2, 12, 13, 14, 15, 16, 17]\n"
          ]
        }
      ],
      "source": [
        "text_sentences = [\n",
        "    'The quick brown fox jumps over the lazy dog .',\n",
        "    'By Jove , my quick study of lexicography won a prize .',]\n",
        "text_tokenized, text_tokenizer = tokenize(text_sentences)\n",
        "print(text_tokenizer.word_index)\n",
        "print()\n",
        "for sample_i, (sent, token_sent) in enumerate(zip(text_sentences, text_tokenized)):\n",
        "    print('Sequence {} in x'.format(sample_i + 1))\n",
        "    print('  Input:  {}'.format(sent))\n",
        "    print('  Output: {}'.format(token_sent))"
      ]
    },
    {
      "cell_type": "markdown",
      "metadata": {
        "id": "sRt6kyZW1ErZ"
      },
      "source": [
        "Padding"
      ]
    },
    {
      "cell_type": "code",
      "execution_count": 32,
      "metadata": {
        "id": "4B3wmo_s1Cbf"
      },
      "outputs": [],
      "source": [
        "def pad(x, length=None):\n",
        "    return pad_sequences(x, maxlen=length, padding='post')"
      ]
    },
    {
      "cell_type": "code",
      "execution_count": 33,
      "metadata": {
        "colab": {
          "base_uri": "https://localhost:8080/"
        },
        "id": "Qz8sdF9-1IS8",
        "outputId": "1e424e09-b95b-43bc-d6a5-53dd2f944716"
      },
      "outputs": [
        {
          "output_type": "stream",
          "name": "stdout",
          "text": [
            "OUTPUT IS ALWAYS A LENGTH 10 ARRAY....FILLED BY 0s IN THE END\n",
            "Sequence 1 in x\n",
            "  Input:  [1 2 3 4 5 6 1 7 8]\n",
            "  Output: [1 2 3 4 5 6 1 7 8 0]\n",
            "Sequence 2 in x\n",
            "  Input:  [ 9 10 11  2 12 13 14 15 16 17]\n",
            "  Output: [ 9 10 11  2 12 13 14 15 16 17]\n"
          ]
        }
      ],
      "source": [
        "test_pad = pad(text_tokenized)\n",
        "print(\"OUTPUT IS ALWAYS A LENGTH 10 ARRAY....FILLED BY 0s IN THE END\")\n",
        "for sample_i, (token_sent, pad_sent) in enumerate(zip(text_tokenized, test_pad)):\n",
        "    print('Sequence {} in x'.format(sample_i + 1))\n",
        "    print('  Input:  {}'.format(np.array(token_sent)))\n",
        "    print('  Output: {}'.format(pad_sent))"
      ]
    },
    {
      "cell_type": "markdown",
      "metadata": {
        "id": "kgpTtlio1N2e"
      },
      "source": [
        "Applying all tested preprocessing functions to our corpus"
      ]
    },
    {
      "cell_type": "code",
      "execution_count": 34,
      "metadata": {
        "id": "uNvIvJyG1KnX"
      },
      "outputs": [],
      "source": [
        "def preprocess(x, y):\n",
        "    preprocess_x, x_tk = tokenize(x)\n",
        "    preprocess_y, y_tk = tokenize(y)\n",
        "\n",
        "    preprocess_x = pad(preprocess_x)\n",
        "    preprocess_y = pad(preprocess_y)\n",
        "\n",
        "    print('shape before: ', preprocess_y.shape)\n",
        "    preprocess_y = preprocess_y.reshape(*preprocess_y.shape, 1)\n",
        "    print('shape after: ', preprocess_y.shape)\n",
        "        \n",
        "    return preprocess_x, preprocess_y, x_tk, y_tk"
      ]
    },
    {
      "cell_type": "code",
      "execution_count": 35,
      "metadata": {
        "colab": {
          "base_uri": "https://localhost:8080/"
        },
        "id": "ZPezTZ6c1YYJ",
        "outputId": "aa9b152d-d2b1-4d7a-e1bf-1e087bd631f8"
      },
      "outputs": [
        {
          "output_type": "execute_result",
          "data": {
            "text/plain": [
              "(2000, 76)"
            ]
          },
          "metadata": {},
          "execution_count": 35
        }
      ],
      "source": [
        "preprocess_x, x_tk = tokenize(x)\n",
        "preprocess_x = pad(preprocess_x)\n",
        "preprocess_x.shape"
      ]
    },
    {
      "cell_type": "code",
      "execution_count": 36,
      "metadata": {
        "colab": {
          "base_uri": "https://localhost:8080/"
        },
        "id": "JuXxlLpn1aPq",
        "outputId": "ff16b63f-b43a-4120-dbd9-5acaaea08d1c"
      },
      "outputs": [
        {
          "output_type": "stream",
          "name": "stdout",
          "text": [
            "shape before:  (2000, 112)\n",
            "shape after:  (2000, 112, 1)\n"
          ]
        }
      ],
      "source": [
        "preproc_tamil_sentences, preproc_english_sentences, tamil_tokenizer, english_tokenizer =\\\n",
        "    preprocess(x, y)"
      ]
    },
    {
      "cell_type": "code",
      "execution_count": 37,
      "metadata": {
        "colab": {
          "base_uri": "https://localhost:8080/"
        },
        "id": "69sUUrCK1cLi",
        "outputId": "c4458846-0cd2-4976-a41f-c5234d7950d9"
      },
      "outputs": [
        {
          "output_type": "execute_result",
          "data": {
            "text/plain": [
              "[('ஒரு', 1), ('மற்றும்', 2), ('என்று', 3), ('இந்த', 4), ('அவர்', 5)]"
            ]
          },
          "metadata": {},
          "execution_count": 37
        }
      ],
      "source": [
        "list(tamil_tokenizer.word_index.items())[:5]"
      ]
    },
    {
      "cell_type": "code",
      "execution_count": 38,
      "metadata": {
        "colab": {
          "base_uri": "https://localhost:8080/"
        },
        "id": "IzD3I7n31e6m",
        "outputId": "63c58f7e-81f8-4aed-f6d0-3041bab0cb35"
      },
      "outputs": [
        {
          "output_type": "execute_result",
          "data": {
            "text/plain": [
              "[('the', 1), ('of', 2), ('and', 3), ('to', 4), ('in', 5)]"
            ]
          },
          "metadata": {},
          "execution_count": 38
        }
      ],
      "source": [
        "list(english_tokenizer.word_index.items())[:5]"
      ]
    },
    {
      "cell_type": "markdown",
      "metadata": {
        "id": "868rNvh41jf0"
      },
      "source": [
        "Logits to text"
      ]
    },
    {
      "cell_type": "code",
      "execution_count": 39,
      "metadata": {
        "id": "atp6xpoe1ggE"
      },
      "outputs": [],
      "source": [
        "def logits_to_text(logits, tokenizer):\n",
        "\n",
        "    index_to_words = {id: word for word, id in tokenizer.word_index.items()}\n",
        "    index_to_words[0] = ''\n",
        "\n",
        "    return ' '.join([index_to_words[prediction] for prediction in np.argmax(logits, 1)])"
      ]
    },
    {
      "cell_type": "code",
      "execution_count": 40,
      "metadata": {
        "colab": {
          "base_uri": "https://localhost:8080/"
        },
        "id": "hWm2UrdT1lOg",
        "outputId": "c447704a-f18b-4488-86b8-56a4c8572350"
      },
      "outputs": [
        {
          "output_type": "stream",
          "name": "stdout",
          "text": [
            "tamil_sentences shape:  (2000, 112, 1)\n",
            "english_sentences  shape:  (2000, 76)\n",
            "output sequence length:  112\n"
          ]
        }
      ],
      "source": [
        "print(\"tamil_sentences shape: \", preproc_english_sentences.shape)\n",
        "print(\"english_sentences  shape: \", preproc_tamil_sentences.shape)\n",
        "print('output sequence length: ', preproc_english_sentences.shape[1])"
      ]
    },
    {
      "cell_type": "code",
      "execution_count": 41,
      "metadata": {
        "id": "DWWnYZR63Wb6"
      },
      "outputs": [],
      "source": [
        "tmp_x = pad(preproc_tamil_sentences, preproc_english_sentences.shape[1])\n",
        "tmp_x = tmp_x.reshape((-1, preproc_english_sentences.shape[-2], 1))"
      ]
    },
    {
      "cell_type": "code",
      "execution_count": 42,
      "metadata": {
        "colab": {
          "base_uri": "https://localhost:8080/"
        },
        "id": "OaALG8Eq3YHc",
        "outputId": "6081f8bb-1eaf-402e-f83a-c53b5298fe73"
      },
      "outputs": [
        {
          "output_type": "execute_result",
          "data": {
            "text/plain": [
              "(2000, 112, 1)"
            ]
          },
          "metadata": {},
          "execution_count": 42
        }
      ],
      "source": [
        "tmp_x.shape"
      ]
    },
    {
      "cell_type": "code",
      "source": [
        "from sklearn.model_selection import train_test_split"
      ],
      "metadata": {
        "id": "UvfFScIgC3Hv"
      },
      "execution_count": 43,
      "outputs": []
    },
    {
      "cell_type": "code",
      "source": [
        "x_train,x_test , y_train , y_test = train_test_split(\n",
        "...     tmp_x, preproc_english_sentences, test_size=0.2, random_state=42)"
      ],
      "metadata": {
        "id": "kAAWV78FDAJs"
      },
      "execution_count": 44,
      "outputs": []
    },
    {
      "cell_type": "code",
      "execution_count": null,
      "metadata": {
        "id": "m46fbW3i4Nrc"
      },
      "outputs": [],
      "source": [
        "def embed_model(input_shape, output_sequence_length, tamil_vocab_size, english_vocab_size, learning_rate=0.1):\n",
        "    model = Sequential()\n",
        "    model.add(Embedding(max(tamil_vocab_size, english_vocab_size) ,128 , input_length=output_sequence_length))\n",
        "    model.add(LSTM(128, dropout=0.1, return_sequences=True))\n",
        "    model.add(Dense(english_vocab_size, activation='softmax'))\n",
        "    model.summary()\n",
        "    model.compile(loss=sparse_categorical_crossentropy,\n",
        "                  optimizer=Adam(learning_rate),\n",
        "                  metrics=['accuracy'])\n",
        "    \n",
        "    return model"
      ]
    },
    {
      "cell_type": "code",
      "execution_count": null,
      "metadata": {
        "id": "slGTCkSo4XmU"
      },
      "outputs": [],
      "source": [
        "#reshaping the input for processing embeddings\n",
        "tmp_x = pad(preproc_tamil_sentences, preproc_english_sentences.shape[1])"
      ]
    },
    {
      "cell_type": "code",
      "execution_count": null,
      "metadata": {
        "id": "HdsRC-gy4YM0",
        "colab": {
          "base_uri": "https://localhost:8080/"
        },
        "outputId": "5baa16d5-080f-42a2-b1e8-bdfd7b04ec75"
      },
      "outputs": [
        {
          "output_type": "execute_result",
          "data": {
            "text/plain": [
              "(2000, 112)"
            ]
          },
          "metadata": {},
          "execution_count": 113
        }
      ],
      "source": [
        "tmp_x.shape"
      ]
    },
    {
      "cell_type": "code",
      "source": [
        "x_train,x_test , y_train , y_test = train_test_split(\n",
        "...     tmp_x, preproc_english_sentences, test_size=0.2, random_state=42)"
      ],
      "metadata": {
        "id": "oXnoBzbRMpQs"
      },
      "execution_count": null,
      "outputs": []
    },
    {
      "cell_type": "code",
      "execution_count": null,
      "metadata": {
        "id": "IJC54eiJ4Z9S",
        "colab": {
          "base_uri": "https://localhost:8080/"
        },
        "outputId": "301c019f-d4e7-45b7-bc64-def89ba1cb38"
      },
      "outputs": [
        {
          "output_type": "stream",
          "name": "stdout",
          "text": [
            "Model: \"sequential_1\"\n",
            "_________________________________________________________________\n",
            " Layer (type)                Output Shape              Param #   \n",
            "=================================================================\n",
            " embedding_1 (Embedding)     (None, 112, 128)          2048768   \n",
            "                                                                 \n",
            " lstm_1 (LSTM)               (None, 112, 128)          131584    \n",
            "                                                                 \n",
            " dense_1 (Dense)             (None, 112, 8537)         1101273   \n",
            "                                                                 \n",
            "=================================================================\n",
            "Total params: 3,281,625\n",
            "Trainable params: 3,281,625\n",
            "Non-trainable params: 0\n",
            "_________________________________________________________________\n",
            "Epoch 1/50\n",
            "13/13 [==============================] - 65s 5s/step - loss: 4.2445 - accuracy: 0.7324 - val_loss: 3.3475 - val_accuracy: 0.7668\n",
            "Epoch 2/50\n",
            "13/13 [==============================] - 51s 4s/step - loss: 2.3395 - accuracy: 0.7915 - val_loss: 2.2627 - val_accuracy: 0.7979\n",
            "Epoch 3/50\n",
            "13/13 [==============================] - 52s 4s/step - loss: 1.9487 - accuracy: 0.7971 - val_loss: 2.1844 - val_accuracy: 0.8002\n",
            "Epoch 4/50\n",
            "13/13 [==============================] - 51s 4s/step - loss: 1.7602 - accuracy: 0.8000 - val_loss: 2.1677 - val_accuracy: 0.7997\n",
            "Epoch 5/50\n",
            "13/13 [==============================] - 52s 4s/step - loss: 1.6474 - accuracy: 0.8013 - val_loss: 2.1255 - val_accuracy: 0.8021\n",
            "Epoch 6/50\n",
            "13/13 [==============================] - 54s 4s/step - loss: 1.5678 - accuracy: 0.8024 - val_loss: 2.1416 - val_accuracy: 0.8020\n",
            "Epoch 7/50\n",
            "13/13 [==============================] - 51s 4s/step - loss: 1.5065 - accuracy: 0.8030 - val_loss: 2.1704 - val_accuracy: 0.7985\n",
            "Epoch 8/50\n",
            "13/13 [==============================] - 53s 4s/step - loss: 1.4565 - accuracy: 0.8038 - val_loss: 2.2109 - val_accuracy: 0.7948\n",
            "Epoch 9/50\n",
            "13/13 [==============================] - 54s 4s/step - loss: 1.4208 - accuracy: 0.8040 - val_loss: 2.2468 - val_accuracy: 0.7947\n",
            "Epoch 10/50\n",
            "13/13 [==============================] - 55s 4s/step - loss: 1.3888 - accuracy: 0.8048 - val_loss: 2.2617 - val_accuracy: 0.7921\n",
            "Epoch 11/50\n",
            "13/13 [==============================] - 53s 4s/step - loss: 1.3714 - accuracy: 0.8053 - val_loss: 2.2709 - val_accuracy: 0.7905\n",
            "Epoch 12/50\n",
            "13/13 [==============================] - 53s 4s/step - loss: 1.3275 - accuracy: 0.8068 - val_loss: 2.3015 - val_accuracy: 0.7920\n",
            "Epoch 13/50\n",
            "13/13 [==============================] - 53s 4s/step - loss: 1.3018 - accuracy: 0.8078 - val_loss: 2.3411 - val_accuracy: 0.7838\n",
            "Epoch 14/50\n",
            "13/13 [==============================] - 55s 4s/step - loss: 1.2793 - accuracy: 0.8089 - val_loss: 2.3609 - val_accuracy: 0.7818\n",
            "Epoch 15/50\n",
            "13/13 [==============================] - 54s 4s/step - loss: 1.2543 - accuracy: 0.8096 - val_loss: 2.3768 - val_accuracy: 0.7798\n",
            "Epoch 16/50\n",
            "13/13 [==============================] - 52s 4s/step - loss: 1.2355 - accuracy: 0.8113 - val_loss: 2.3950 - val_accuracy: 0.7756\n",
            "Epoch 17/50\n",
            "13/13 [==============================] - 70s 6s/step - loss: 1.2151 - accuracy: 0.8128 - val_loss: 2.4710 - val_accuracy: 0.7664\n",
            "Epoch 18/50\n",
            "13/13 [==============================] - 53s 4s/step - loss: 1.1969 - accuracy: 0.8136 - val_loss: 2.4594 - val_accuracy: 0.7721\n",
            "Epoch 19/50\n",
            "13/13 [==============================] - 53s 4s/step - loss: 1.1683 - accuracy: 0.8151 - val_loss: 2.4314 - val_accuracy: 0.7799\n",
            "Epoch 20/50\n",
            "13/13 [==============================] - 52s 4s/step - loss: 1.1329 - accuracy: 0.8173 - val_loss: 2.4425 - val_accuracy: 0.7809\n",
            "Epoch 21/50\n",
            "13/13 [==============================] - 52s 4s/step - loss: 1.1157 - accuracy: 0.8187 - val_loss: 2.4892 - val_accuracy: 0.7789\n",
            "Epoch 22/50\n",
            "13/13 [==============================] - 54s 4s/step - loss: 1.0888 - accuracy: 0.8217 - val_loss: 2.5106 - val_accuracy: 0.7788\n",
            "Epoch 23/50\n",
            "13/13 [==============================] - 54s 4s/step - loss: 1.0741 - accuracy: 0.8230 - val_loss: 2.5422 - val_accuracy: 0.7775\n",
            "Epoch 24/50\n",
            "13/13 [==============================] - 51s 4s/step - loss: 1.0518 - accuracy: 0.8254 - val_loss: 2.5428 - val_accuracy: 0.7786\n",
            "Epoch 25/50\n",
            "13/13 [==============================] - 51s 4s/step - loss: 1.0389 - accuracy: 0.8256 - val_loss: 2.5757 - val_accuracy: 0.7746\n",
            "Epoch 26/50\n",
            "13/13 [==============================] - 51s 4s/step - loss: 1.0158 - accuracy: 0.8284 - val_loss: 2.6005 - val_accuracy: 0.7719\n",
            "Epoch 27/50\n",
            "13/13 [==============================] - 53s 4s/step - loss: 0.9944 - accuracy: 0.8304 - val_loss: 2.6404 - val_accuracy: 0.7675\n",
            "Epoch 28/50\n",
            "13/13 [==============================] - 49s 4s/step - loss: 0.9770 - accuracy: 0.8324 - val_loss: 2.6339 - val_accuracy: 0.7739\n",
            "Epoch 29/50\n",
            "13/13 [==============================] - 51s 4s/step - loss: 0.9638 - accuracy: 0.8345 - val_loss: 2.6512 - val_accuracy: 0.7755\n",
            "Epoch 30/50\n",
            "13/13 [==============================] - 51s 4s/step - loss: 0.9508 - accuracy: 0.8356 - val_loss: 2.7014 - val_accuracy: 0.7725\n",
            "Epoch 31/50\n",
            "13/13 [==============================] - 51s 4s/step - loss: 0.9352 - accuracy: 0.8372 - val_loss: 2.7391 - val_accuracy: 0.7681\n",
            "Epoch 32/50\n",
            "13/13 [==============================] - 53s 4s/step - loss: 0.9209 - accuracy: 0.8389 - val_loss: 2.7554 - val_accuracy: 0.7688\n",
            "Epoch 33/50\n",
            "13/13 [==============================] - 51s 4s/step - loss: 0.9194 - accuracy: 0.8395 - val_loss: 2.7754 - val_accuracy: 0.7689\n",
            "Epoch 34/50\n",
            "13/13 [==============================] - 51s 4s/step - loss: 0.9064 - accuracy: 0.8409 - val_loss: 2.7372 - val_accuracy: 0.7770\n",
            "Epoch 35/50\n",
            "13/13 [==============================] - 51s 4s/step - loss: 0.8905 - accuracy: 0.8428 - val_loss: 2.7918 - val_accuracy: 0.7705\n",
            "Epoch 36/50\n",
            "13/13 [==============================] - 51s 4s/step - loss: 0.8797 - accuracy: 0.8442 - val_loss: 2.8271 - val_accuracy: 0.7705\n",
            "Epoch 37/50\n",
            "13/13 [==============================] - 53s 4s/step - loss: 0.8679 - accuracy: 0.8457 - val_loss: 2.8503 - val_accuracy: 0.7713\n",
            "Epoch 38/50\n",
            "13/13 [==============================] - 53s 4s/step - loss: 0.8578 - accuracy: 0.8473 - val_loss: 2.8878 - val_accuracy: 0.7686\n",
            "Epoch 39/50\n",
            "13/13 [==============================] - 51s 4s/step - loss: 0.8497 - accuracy: 0.8486 - val_loss: 2.9278 - val_accuracy: 0.7669\n",
            "Epoch 40/50\n",
            "13/13 [==============================] - 51s 4s/step - loss: 0.8405 - accuracy: 0.8504 - val_loss: 2.9593 - val_accuracy: 0.7620\n",
            "Epoch 41/50\n",
            "13/13 [==============================] - 53s 4s/step - loss: 0.8346 - accuracy: 0.8503 - val_loss: 2.9247 - val_accuracy: 0.7701\n",
            "Epoch 42/50\n",
            "13/13 [==============================] - 51s 4s/step - loss: 0.8383 - accuracy: 0.8512 - val_loss: 2.9312 - val_accuracy: 0.7721\n",
            "Epoch 43/50\n",
            "13/13 [==============================] - 51s 4s/step - loss: 0.8514 - accuracy: 0.8509 - val_loss: 2.9574 - val_accuracy: 0.7664\n",
            "Epoch 44/50\n",
            "13/13 [==============================] - 51s 4s/step - loss: 0.8778 - accuracy: 0.8468 - val_loss: 2.9579 - val_accuracy: 0.7739\n",
            "Epoch 45/50\n",
            "13/13 [==============================] - 50s 4s/step - loss: 0.8587 - accuracy: 0.8482 - val_loss: 2.9742 - val_accuracy: 0.7692\n",
            "Epoch 46/50\n",
            "13/13 [==============================] - 52s 4s/step - loss: 0.8413 - accuracy: 0.8508 - val_loss: 2.9859 - val_accuracy: 0.7722\n",
            "Epoch 47/50\n",
            "13/13 [==============================] - 51s 4s/step - loss: 0.8185 - accuracy: 0.8532 - val_loss: 2.9956 - val_accuracy: 0.7742\n",
            "Epoch 48/50\n",
            "13/13 [==============================] - 51s 4s/step - loss: 0.8151 - accuracy: 0.8537 - val_loss: 3.0300 - val_accuracy: 0.7697\n",
            "Epoch 49/50\n",
            "13/13 [==============================] - 51s 4s/step - loss: 0.8044 - accuracy: 0.8552 - val_loss: 3.0741 - val_accuracy: 0.7655\n",
            "Epoch 50/50\n",
            "13/13 [==============================] - 51s 4s/step - loss: 0.7962 - accuracy: 0.8561 - val_loss: 3.0808 - val_accuracy: 0.7696\n"
          ]
        }
      ],
      "source": [
        "embed_rnn_model = embed_model(\n",
        "    x_train.shape,\n",
        "    y_train.shape[1],\n",
        "    len(tamil_tokenizer.word_index)+1,\n",
        "    len(english_tokenizer.word_index)+1)\n",
        "if os.path.exists(os.path.join(\"cache\", \"LSTM.h5\"))== False:\n",
        "    embedrnn = embed_rnn_model.fit(x_train, y_train, batch_size=100, epochs=50, validation_split=0.2)\n",
        "else:\n",
        "    embed_rnn_model = load_model(os.path.join(\"cache\", \"LSTM.h5\"))"
      ]
    },
    {
      "cell_type": "code",
      "execution_count": null,
      "metadata": {
        "id": "U8MtJ6xa4fpS"
      },
      "outputs": [],
      "source": [
        "embed_rnn_model.save(os.path.join(\"model\", \"LSTM.h5\"))"
      ]
    },
    {
      "cell_type": "code",
      "execution_count": null,
      "metadata": {
        "id": "Da3ezCMD4j3r",
        "colab": {
          "base_uri": "https://localhost:8080/"
        },
        "outputId": "9756aa62-cfcc-468d-fdbb-458c279076f7"
      },
      "outputs": [
        {
          "output_type": "stream",
          "name": "stdout",
          "text": [
            " Train Accuracy:  0.8515178561210632\n"
          ]
        }
      ],
      "source": [
        "train_score = embed_rnn_model.evaluate(x_train, y_train, verbose=0)\n",
        "print(\" Train Accuracy: \", train_score[1])"
      ]
    },
    {
      "cell_type": "code",
      "source": [
        "test_score = embed_rnn_model.evaluate(x_test, y_test, verbose=0)\n",
        "print(\" Test Accuracy: \", test_score[1])"
      ],
      "metadata": {
        "colab": {
          "base_uri": "https://localhost:8080/"
        },
        "id": "669av8EUOzE_",
        "outputId": "d9a76c4a-841b-487b-ad3a-524efc66effe"
      },
      "execution_count": null,
      "outputs": [
        {
          "output_type": "stream",
          "name": "stdout",
          "text": [
            " Test Accuracy:  0.7681919932365417\n"
          ]
        }
      ]
    },
    {
      "cell_type": "code",
      "source": [
        "from nltk.translate.bleu_score import corpus_bleu"
      ],
      "metadata": {
        "id": "QLR5eVqTy_n_"
      },
      "execution_count": null,
      "outputs": []
    },
    {
      "cell_type": "code",
      "execution_count": null,
      "metadata": {
        "id": "EOVZE7Bz4l9B",
        "colab": {
          "base_uri": "https://localhost:8080/",
          "height": 35
        },
        "outputId": "fb62c64e-3ad7-4bea-d7de-0cb5b9f61a15"
      },
      "outputs": [
        {
          "output_type": "execute_result",
          "data": {
            "text/plain": [
              "'வெளிநாட்டுக்கு ஷூட்டிங் கிளம்பும்வரை நன்றாகத்தான் இருந்தார் ஆபிரஹாம்'"
            ],
            "application/vnd.google.colaboratory.intrinsic+json": {
              "type": "string"
            }
          },
          "metadata": {},
          "execution_count": 120
        }
      ],
      "source": [
        "x[15]"
      ]
    },
    {
      "cell_type": "code",
      "execution_count": null,
      "metadata": {
        "id": "RORhU9FF4nmM",
        "colab": {
          "base_uri": "https://localhost:8080/"
        },
        "outputId": "ae470f74-21a4-4d95-d462-cb055c926d84"
      },
      "outputs": [
        {
          "output_type": "stream",
          "name": "stdout",
          "text": [
            "1/1 [==============================] - 1s 727ms/step\n",
            "before the voyage overseas lobbying shooting society perfectly perfectly perfectly alright                                                                                                     \n"
          ]
        }
      ],
      "source": [
        "print(logits_to_text(embed_rnn_model.predict(tmp_x[:16])[15], english_tokenizer))"
      ]
    },
    {
      "cell_type": "code",
      "execution_count": null,
      "metadata": {
        "id": "6eufi8Yo4psN",
        "colab": {
          "base_uri": "https://localhost:8080/",
          "height": 52
        },
        "outputId": "d898c757-1ec5-4038-ef2a-eed94534abe1"
      },
      "outputs": [
        {
          "output_type": "execute_result",
          "data": {
            "text/plain": [
              "'வியட்நாம் தொடர்பாக அவர்கள் பொய் சொன்னார்கள் இப்போது மீண்டும் அதையே செய்து கொண்டிருக்கிறார்கள் என்று பேங்கரில் உள்ள ஒரு ஓய்வு பெற்ற அஞ்சல்துறை ஊழியர் கூறினார்'"
            ],
            "application/vnd.google.colaboratory.intrinsic+json": {
              "type": "string"
            }
          },
          "metadata": {},
          "execution_count": 122
        }
      ],
      "source": [
        "x[10]"
      ]
    },
    {
      "cell_type": "code",
      "execution_count": null,
      "metadata": {
        "id": "57VikTwa4rtJ",
        "colab": {
          "base_uri": "https://localhost:8080/"
        },
        "outputId": "63f468fa-e576-465f-be40-23f7b514b7e8"
      },
      "outputs": [
        {
          "output_type": "stream",
          "name": "stdout",
          "text": [
            "4/4 [==============================] - 1s 234ms/step\n",
            "they lied as and that the you they hindi doing a of year working the that retired postal were bangor bangor the the the the the the the the the the the                                                                                \n"
          ]
        }
      ],
      "source": [
        "print(logits_to_text(embed_rnn_model.predict(tmp_x[:100])[10], english_tokenizer))"
      ]
    },
    {
      "cell_type": "code",
      "execution_count": null,
      "metadata": {
        "id": "V5ozDpHy4thJ",
        "colab": {
          "base_uri": "https://localhost:8080/"
        },
        "outputId": "385e16f7-3f85-4c30-f998-dffa72ab4055"
      },
      "outputs": [
        {
          "output_type": "execute_result",
          "data": {
            "text/plain": [
              "(112,)"
            ]
          },
          "metadata": {},
          "execution_count": 124
        }
      ],
      "source": [
        "(tmp_x[:100][10]).shape"
      ]
    },
    {
      "cell_type": "code",
      "execution_count": null,
      "metadata": {
        "id": "wb6Ouo-34vGS",
        "colab": {
          "base_uri": "https://localhost:8080/"
        },
        "outputId": "5c579ae8-7f01-4a14-eb1b-248754c18c76"
      },
      "outputs": [
        {
          "output_type": "execute_result",
          "data": {
            "text/plain": [
              "7"
            ]
          },
          "metadata": {},
          "execution_count": 125
        }
      ],
      "source": [
        "tamil_tokenizer.word_index['அரசியல்']"
      ]
    },
    {
      "cell_type": "code",
      "execution_count": null,
      "metadata": {
        "id": "ebHHQtBi4xuA"
      },
      "outputs": [],
      "source": [
        "a = []\n",
        "t = [0] * 74\n",
        "s = [0] * 74"
      ]
    },
    {
      "cell_type": "code",
      "execution_count": null,
      "metadata": {
        "id": "TxbWd9j24zfA"
      },
      "outputs": [],
      "source": [
        "t[0] = 10\n",
        "a.append(t)\n",
        "a.append(s)"
      ]
    },
    {
      "cell_type": "code",
      "execution_count": null,
      "metadata": {
        "id": "wDwzw4ZD41VY"
      },
      "outputs": [],
      "source": [
        "a=np.array(a)"
      ]
    },
    {
      "cell_type": "code",
      "execution_count": null,
      "metadata": {
        "id": "1pHF2fPk42w7",
        "colab": {
          "base_uri": "https://localhost:8080/"
        },
        "outputId": "a145b654-5fbe-43f3-cf8b-f0f9e4d2c1ff"
      },
      "outputs": [
        {
          "output_type": "execute_result",
          "data": {
            "text/plain": [
              "array([10,  0,  0,  0,  0,  0,  0,  0,  0,  0,  0,  0,  0,  0,  0,  0,  0,\n",
              "        0,  0,  0,  0,  0,  0,  0,  0,  0,  0,  0,  0,  0,  0,  0,  0,  0,\n",
              "        0,  0,  0,  0,  0,  0,  0,  0,  0,  0,  0,  0,  0,  0,  0,  0,  0,\n",
              "        0,  0,  0,  0,  0,  0,  0,  0,  0,  0,  0,  0,  0,  0,  0,  0,  0,\n",
              "        0,  0,  0,  0,  0,  0])"
            ]
          },
          "metadata": {},
          "execution_count": 129
        }
      ],
      "source": [
        "a[:1][0]"
      ]
    },
    {
      "cell_type": "code",
      "source": [
        "embed_rnn_model = embed_model(\n",
        "    x_train.shape,\n",
        "    y_train.shape[1],\n",
        "    len(tamil_tokenizer.word_index)+1,\n",
        "    len(english_tokenizer.word_index)+1)\n",
        "if os.path.exists(os.path.join(\"cache\", \"LSTM2.h5\"))== False:\n",
        "    embedrnn = embed_rnn_model.fit(x_train, y_train, batch_size=150, epochs=70, validation_split=0.2)\n",
        "else:\n",
        "    embed_rnn_model = load_model(os.path.join(\"cache\", \"LSTM2.h5\"))"
      ],
      "metadata": {
        "colab": {
          "base_uri": "https://localhost:8080/"
        },
        "id": "VnDyw-nGGrrA",
        "outputId": "f8a98083-7b14-4d86-85f9-acab36b55a3c"
      },
      "execution_count": null,
      "outputs": [
        {
          "output_type": "stream",
          "name": "stdout",
          "text": [
            "Model: \"sequential_2\"\n",
            "_________________________________________________________________\n",
            " Layer (type)                Output Shape              Param #   \n",
            "=================================================================\n",
            " embedding_2 (Embedding)     (None, 112, 128)          2048768   \n",
            "                                                                 \n",
            " lstm_2 (LSTM)               (None, 112, 128)          131584    \n",
            "                                                                 \n",
            " dense_2 (Dense)             (None, 112, 8537)         1101273   \n",
            "                                                                 \n",
            "=================================================================\n",
            "Total params: 3,281,625\n",
            "Trainable params: 3,281,625\n",
            "Non-trainable params: 0\n",
            "_________________________________________________________________\n",
            "Epoch 1/70\n",
            "9/9 [==============================] - 61s 7s/step - loss: 4.5436 - accuracy: 0.7011 - val_loss: 4.3867 - val_accuracy: 0.7920\n",
            "Epoch 2/70\n",
            "9/9 [==============================] - 52s 6s/step - loss: 3.4526 - accuracy: 0.7917 - val_loss: 3.5162 - val_accuracy: 0.7949\n",
            "Epoch 3/70\n",
            "9/9 [==============================] - 54s 6s/step - loss: 2.4303 - accuracy: 0.7934 - val_loss: 2.9924 - val_accuracy: 0.7985\n",
            "Epoch 4/70\n",
            "9/9 [==============================] - 51s 6s/step - loss: 1.9476 - accuracy: 0.7963 - val_loss: 2.4462 - val_accuracy: 0.7994\n",
            "Epoch 5/70\n",
            "9/9 [==============================] - 50s 6s/step - loss: 1.7329 - accuracy: 0.7993 - val_loss: 2.3199 - val_accuracy: 0.8030\n",
            "Epoch 6/70\n",
            "9/9 [==============================] - 50s 6s/step - loss: 1.5974 - accuracy: 0.8023 - val_loss: 2.4025 - val_accuracy: 0.8031\n",
            "Epoch 7/70\n",
            "9/9 [==============================] - 51s 6s/step - loss: 1.5753 - accuracy: 0.8033 - val_loss: 2.4657 - val_accuracy: 0.8028\n",
            "Epoch 8/70\n",
            "9/9 [==============================] - 52s 6s/step - loss: 1.5562 - accuracy: 0.8038 - val_loss: 2.4240 - val_accuracy: 0.8026\n",
            "Epoch 9/70\n",
            "9/9 [==============================] - 50s 6s/step - loss: 1.5151 - accuracy: 0.8047 - val_loss: 2.4591 - val_accuracy: 0.8024\n",
            "Epoch 10/70\n",
            "9/9 [==============================] - 50s 6s/step - loss: 1.5276 - accuracy: 0.8057 - val_loss: 2.6160 - val_accuracy: 0.8019\n",
            "Epoch 11/70\n",
            "9/9 [==============================] - 55s 6s/step - loss: 1.5226 - accuracy: 0.8071 - val_loss: 2.5935 - val_accuracy: 0.8018\n",
            "Epoch 12/70\n",
            "9/9 [==============================] - 51s 6s/step - loss: 1.4717 - accuracy: 0.8076 - val_loss: 2.6126 - val_accuracy: 0.8020\n",
            "Epoch 13/70\n",
            "9/9 [==============================] - 53s 6s/step - loss: 1.4212 - accuracy: 0.8085 - val_loss: 2.6664 - val_accuracy: 0.8011\n",
            "Epoch 14/70\n",
            "9/9 [==============================] - 49s 5s/step - loss: 1.3740 - accuracy: 0.8105 - val_loss: 2.6066 - val_accuracy: 0.8014\n",
            "Epoch 15/70\n",
            "9/9 [==============================] - 50s 5s/step - loss: 1.3261 - accuracy: 0.8119 - val_loss: 2.6248 - val_accuracy: 0.8008\n",
            "Epoch 16/70\n",
            "9/9 [==============================] - 51s 6s/step - loss: 1.2964 - accuracy: 0.8128 - val_loss: 2.6799 - val_accuracy: 0.8008\n",
            "Epoch 17/70\n",
            "9/9 [==============================] - 50s 6s/step - loss: 1.2498 - accuracy: 0.8144 - val_loss: 2.7845 - val_accuracy: 0.8007\n",
            "Epoch 18/70\n",
            "9/9 [==============================] - 53s 6s/step - loss: 1.2437 - accuracy: 0.8155 - val_loss: 2.7727 - val_accuracy: 0.8003\n",
            "Epoch 19/70\n",
            "9/9 [==============================] - 50s 6s/step - loss: 1.2656 - accuracy: 0.8167 - val_loss: 2.9546 - val_accuracy: 0.8004\n",
            "Epoch 20/70\n",
            "9/9 [==============================] - 51s 6s/step - loss: 1.2906 - accuracy: 0.8171 - val_loss: 2.8487 - val_accuracy: 0.7998\n",
            "Epoch 21/70\n",
            "9/9 [==============================] - 54s 6s/step - loss: 1.2450 - accuracy: 0.8188 - val_loss: 2.8655 - val_accuracy: 0.8001\n",
            "Epoch 22/70\n",
            "9/9 [==============================] - 60s 7s/step - loss: 1.1973 - accuracy: 0.8206 - val_loss: 2.8816 - val_accuracy: 0.8002\n",
            "Epoch 23/70\n",
            "9/9 [==============================] - 63s 7s/step - loss: 1.1397 - accuracy: 0.8229 - val_loss: 2.9208 - val_accuracy: 0.8001\n",
            "Epoch 24/70\n",
            "9/9 [==============================] - 55s 6s/step - loss: 1.0993 - accuracy: 0.8241 - val_loss: 2.9403 - val_accuracy: 0.8001\n",
            "Epoch 25/70\n",
            "9/9 [==============================] - 56s 6s/step - loss: 1.0683 - accuracy: 0.8260 - val_loss: 2.9983 - val_accuracy: 0.7998\n",
            "Epoch 26/70\n",
            "9/9 [==============================] - 57s 6s/step - loss: 1.0441 - accuracy: 0.8282 - val_loss: 3.0248 - val_accuracy: 0.8001\n",
            "Epoch 27/70\n",
            "9/9 [==============================] - 64s 7s/step - loss: 1.0188 - accuracy: 0.8296 - val_loss: 3.0872 - val_accuracy: 0.7999\n",
            "Epoch 28/70\n",
            "9/9 [==============================] - 48s 5s/step - loss: 0.9978 - accuracy: 0.8318 - val_loss: 3.1474 - val_accuracy: 0.8000\n",
            "Epoch 29/70\n",
            "9/9 [==============================] - 51s 6s/step - loss: 0.9828 - accuracy: 0.8329 - val_loss: 3.1379 - val_accuracy: 0.7990\n",
            "Epoch 30/70\n",
            "9/9 [==============================] - 51s 6s/step - loss: 0.9554 - accuracy: 0.8362 - val_loss: 3.1913 - val_accuracy: 0.7994\n",
            "Epoch 31/70\n",
            "9/9 [==============================] - 53s 6s/step - loss: 0.9452 - accuracy: 0.8379 - val_loss: 3.1705 - val_accuracy: 0.7996\n",
            "Epoch 32/70\n",
            "9/9 [==============================] - 50s 6s/step - loss: 0.9338 - accuracy: 0.8390 - val_loss: 3.1995 - val_accuracy: 0.7993\n",
            "Epoch 33/70\n",
            "9/9 [==============================] - 50s 6s/step - loss: 0.9277 - accuracy: 0.8410 - val_loss: 3.2216 - val_accuracy: 0.7991\n",
            "Epoch 34/70\n",
            "9/9 [==============================] - 54s 6s/step - loss: 0.9235 - accuracy: 0.8409 - val_loss: 3.0931 - val_accuracy: 0.7993\n",
            "Epoch 35/70\n",
            "9/9 [==============================] - 51s 6s/step - loss: 0.9010 - accuracy: 0.8438 - val_loss: 3.0940 - val_accuracy: 0.7992\n",
            "Epoch 36/70\n",
            "9/9 [==============================] - 53s 6s/step - loss: 0.8888 - accuracy: 0.8456 - val_loss: 3.1285 - val_accuracy: 0.7988\n",
            "Epoch 37/70\n",
            "9/9 [==============================] - 51s 6s/step - loss: 0.8699 - accuracy: 0.8471 - val_loss: 3.1615 - val_accuracy: 0.7986\n",
            "Epoch 38/70\n",
            "9/9 [==============================] - 51s 6s/step - loss: 0.8529 - accuracy: 0.8485 - val_loss: 3.1787 - val_accuracy: 0.7984\n",
            "Epoch 39/70\n",
            "9/9 [==============================] - 50s 6s/step - loss: 0.8479 - accuracy: 0.8494 - val_loss: 3.1776 - val_accuracy: 0.7989\n",
            "Epoch 40/70\n",
            "9/9 [==============================] - 48s 5s/step - loss: 0.8451 - accuracy: 0.8501 - val_loss: 3.1674 - val_accuracy: 0.7985\n",
            "Epoch 41/70\n",
            "9/9 [==============================] - 53s 6s/step - loss: 0.8264 - accuracy: 0.8519 - val_loss: 3.1713 - val_accuracy: 0.7984\n",
            "Epoch 42/70\n",
            "9/9 [==============================] - 51s 6s/step - loss: 0.8175 - accuracy: 0.8536 - val_loss: 3.1931 - val_accuracy: 0.7986\n",
            "Epoch 43/70\n",
            "9/9 [==============================] - 51s 6s/step - loss: 0.8018 - accuracy: 0.8551 - val_loss: 3.2325 - val_accuracy: 0.7988\n",
            "Epoch 44/70\n",
            "9/9 [==============================] - 51s 6s/step - loss: 0.7965 - accuracy: 0.8563 - val_loss: 3.2345 - val_accuracy: 0.7989\n",
            "Epoch 45/70\n",
            "9/9 [==============================] - 51s 6s/step - loss: 0.7847 - accuracy: 0.8571 - val_loss: 3.2507 - val_accuracy: 0.7982\n",
            "Epoch 46/70\n",
            "9/9 [==============================] - 52s 6s/step - loss: 0.7779 - accuracy: 0.8579 - val_loss: 3.2661 - val_accuracy: 0.7977\n",
            "Epoch 47/70\n",
            "9/9 [==============================] - 50s 6s/step - loss: 0.7631 - accuracy: 0.8598 - val_loss: 3.2855 - val_accuracy: 0.7983\n",
            "Epoch 48/70\n",
            "9/9 [==============================] - 51s 6s/step - loss: 0.7646 - accuracy: 0.8608 - val_loss: 3.2649 - val_accuracy: 0.7973\n",
            "Epoch 49/70\n",
            "9/9 [==============================] - 52s 6s/step - loss: 0.7575 - accuracy: 0.8616 - val_loss: 3.3160 - val_accuracy: 0.7978\n",
            "Epoch 50/70\n",
            "9/9 [==============================] - 50s 6s/step - loss: 0.7673 - accuracy: 0.8614 - val_loss: 3.3131 - val_accuracy: 0.7974\n",
            "Epoch 51/70\n",
            "9/9 [==============================] - 53s 6s/step - loss: 0.7576 - accuracy: 0.8628 - val_loss: 3.3773 - val_accuracy: 0.7983\n",
            "Epoch 52/70\n",
            "9/9 [==============================] - 48s 5s/step - loss: 0.7546 - accuracy: 0.8642 - val_loss: 3.3290 - val_accuracy: 0.7967\n",
            "Epoch 53/70\n",
            "9/9 [==============================] - 50s 5s/step - loss: 0.7449 - accuracy: 0.8644 - val_loss: 3.3999 - val_accuracy: 0.7983\n",
            "Epoch 54/70\n",
            "9/9 [==============================] - 50s 6s/step - loss: 0.7476 - accuracy: 0.8647 - val_loss: 3.3741 - val_accuracy: 0.7974\n",
            "Epoch 55/70\n",
            "9/9 [==============================] - 50s 6s/step - loss: 0.7463 - accuracy: 0.8658 - val_loss: 3.3723 - val_accuracy: 0.7968\n",
            "Epoch 56/70\n",
            "9/9 [==============================] - 52s 6s/step - loss: 0.7335 - accuracy: 0.8674 - val_loss: 3.4352 - val_accuracy: 0.7973\n",
            "Epoch 57/70\n",
            "9/9 [==============================] - 50s 6s/step - loss: 0.7289 - accuracy: 0.8675 - val_loss: 3.4326 - val_accuracy: 0.7961\n",
            "Epoch 58/70\n",
            "9/9 [==============================] - 50s 6s/step - loss: 0.7251 - accuracy: 0.8667 - val_loss: 3.4323 - val_accuracy: 0.7971\n",
            "Epoch 59/70\n",
            "9/9 [==============================] - 50s 6s/step - loss: 0.7229 - accuracy: 0.8682 - val_loss: 3.4363 - val_accuracy: 0.7972\n",
            "Epoch 60/70\n",
            "9/9 [==============================] - 50s 6s/step - loss: 0.7187 - accuracy: 0.8682 - val_loss: 3.4283 - val_accuracy: 0.7972\n",
            "Epoch 61/70\n",
            "9/9 [==============================] - 52s 6s/step - loss: 0.7193 - accuracy: 0.8673 - val_loss: 3.4450 - val_accuracy: 0.7978\n",
            "Epoch 62/70\n",
            "9/9 [==============================] - 50s 6s/step - loss: 0.7113 - accuracy: 0.8696 - val_loss: 3.4540 - val_accuracy: 0.7971\n",
            "Epoch 63/70\n",
            "9/9 [==============================] - 48s 5s/step - loss: 0.7128 - accuracy: 0.8691 - val_loss: 3.4557 - val_accuracy: 0.7968\n",
            "Epoch 64/70\n",
            "9/9 [==============================] - 50s 5s/step - loss: 0.7021 - accuracy: 0.8715 - val_loss: 3.5108 - val_accuracy: 0.7971\n",
            "Epoch 65/70\n",
            "9/9 [==============================] - 50s 6s/step - loss: 0.7121 - accuracy: 0.8695 - val_loss: 3.5139 - val_accuracy: 0.7960\n",
            "Epoch 66/70\n",
            "9/9 [==============================] - 52s 6s/step - loss: 0.7139 - accuracy: 0.8688 - val_loss: 3.5232 - val_accuracy: 0.7973\n",
            "Epoch 67/70\n",
            "9/9 [==============================] - 50s 6s/step - loss: 0.7114 - accuracy: 0.8703 - val_loss: 3.5132 - val_accuracy: 0.7960\n",
            "Epoch 68/70\n",
            "9/9 [==============================] - 50s 6s/step - loss: 0.7109 - accuracy: 0.8690 - val_loss: 3.5031 - val_accuracy: 0.7963\n",
            "Epoch 69/70\n",
            "9/9 [==============================] - 50s 6s/step - loss: 0.6987 - accuracy: 0.8713 - val_loss: 3.5205 - val_accuracy: 0.7970\n",
            "Epoch 70/70\n",
            "9/9 [==============================] - 50s 6s/step - loss: 0.6903 - accuracy: 0.8721 - val_loss: 3.5400 - val_accuracy: 0.7959\n"
          ]
        }
      ]
    },
    {
      "cell_type": "code",
      "source": [
        "embed_rnn_model.save(os.path.join(\"model\", \"LSTM2.h5\"))"
      ],
      "metadata": {
        "id": "EbEe2wDsGzdg"
      },
      "execution_count": null,
      "outputs": []
    },
    {
      "cell_type": "code",
      "source": [
        "train_score = embed_rnn_model.evaluate(x_train, y_train, verbose=0)\n",
        "print(\" Train Accuracy: \", train_score[1])"
      ],
      "metadata": {
        "colab": {
          "base_uri": "https://localhost:8080/"
        },
        "id": "peXlv85pG3JA",
        "outputId": "80d56058-49ca-4f80-b57e-4f253b2e5b8e"
      },
      "execution_count": null,
      "outputs": [
        {
          "output_type": "stream",
          "name": "stdout",
          "text": [
            " Train Accuracy:  0.8597432971000671\n"
          ]
        }
      ]
    },
    {
      "cell_type": "code",
      "source": [
        "test_score = embed_rnn_model.evaluate(x_test, y_test, verbose=0)\n",
        "print(\" Test Accuracy: \", test_score[1])"
      ],
      "metadata": {
        "colab": {
          "base_uri": "https://localhost:8080/"
        },
        "id": "0UBiGlLaG3MP",
        "outputId": "91021e6a-2e86-46b3-9aa5-de32cd21d869"
      },
      "execution_count": null,
      "outputs": [
        {
          "output_type": "stream",
          "name": "stdout",
          "text": [
            " Test Accuracy:  0.7984821200370789\n"
          ]
        }
      ]
    },
    {
      "cell_type": "code",
      "source": [
        "def embed_model2(input_shape, output_sequence_length, tamil_vocab_size, english_vocab_size, learning_rate=0.1):\n",
        "    model = Sequential()\n",
        "    model.add(Embedding(max(tamil_vocab_size, english_vocab_size) ,128 , input_length=output_sequence_length))\n",
        "    model.add(LSTM(128, dropout=0.2, return_sequences=True))\n",
        "    model.add(Dense(english_vocab_size, activation='softmax'))\n",
        "    model.summary()\n",
        "    model.compile(loss=sparse_categorical_crossentropy,\n",
        "                  optimizer=Adam(learning_rate),\n",
        "                  metrics=['accuracy'])\n",
        "    \n",
        "    return model"
      ],
      "metadata": {
        "id": "W5e1-w6YWkIj"
      },
      "execution_count": 45,
      "outputs": []
    },
    {
      "cell_type": "code",
      "source": [
        "embed_rnn_model = embed_model2(\n",
        "    x_train.shape,\n",
        "    y_train.shape[1],\n",
        "    len(tamil_tokenizer.word_index)+1,\n",
        "    len(english_tokenizer.word_index)+1)\n",
        "if os.path.exists(os.path.join(\"cache\", \"LSTM3.h5\"))== False:\n",
        "    embedrnn = embed_rnn_model.fit(x_train, y_train, batch_size=150, epochs=70, validation_split=0.2)\n",
        "else:\n",
        "    embed_rnn_model = load_model(os.path.join(\"cache\", \"LSTM3.h5\"))"
      ],
      "metadata": {
        "id": "AtUXsafPWkRX",
        "colab": {
          "base_uri": "https://localhost:8080/"
        },
        "outputId": "a4d7f098-43aa-4a32-80f5-5dcf874fe01c"
      },
      "execution_count": 46,
      "outputs": [
        {
          "output_type": "stream",
          "name": "stdout",
          "text": [
            "Model: \"sequential\"\n",
            "_________________________________________________________________\n",
            " Layer (type)                Output Shape              Param #   \n",
            "=================================================================\n",
            " embedding (Embedding)       (None, 112, 128)          2048768   \n",
            "                                                                 \n",
            " lstm (LSTM)                 (None, 112, 128)          131584    \n",
            "                                                                 \n",
            " dense (Dense)               (None, 112, 8537)         1101273   \n",
            "                                                                 \n",
            "=================================================================\n",
            "Total params: 3,281,625\n",
            "Trainable params: 3,281,625\n",
            "Non-trainable params: 0\n",
            "_________________________________________________________________\n",
            "Epoch 1/70\n",
            "9/9 [==============================] - 53s 5s/step - loss: 4.7354 - accuracy: 0.6957 - val_loss: 4.0053 - val_accuracy: 0.7969\n",
            "Epoch 2/70\n",
            "9/9 [==============================] - 48s 5s/step - loss: 3.2231 - accuracy: 0.7935 - val_loss: 3.0423 - val_accuracy: 0.7962\n",
            "Epoch 3/70\n",
            "9/9 [==============================] - 46s 5s/step - loss: 2.1693 - accuracy: 0.7950 - val_loss: 2.1723 - val_accuracy: 0.8026\n",
            "Epoch 4/70\n",
            "9/9 [==============================] - 44s 5s/step - loss: 1.6921 - accuracy: 0.7992 - val_loss: 2.0062 - val_accuracy: 0.8020\n",
            "Epoch 5/70\n",
            "9/9 [==============================] - 45s 5s/step - loss: 1.5333 - accuracy: 0.8011 - val_loss: 2.0167 - val_accuracy: 0.8039\n",
            "Epoch 6/70\n",
            "9/9 [==============================] - 46s 5s/step - loss: 1.4103 - accuracy: 0.8033 - val_loss: 2.0459 - val_accuracy: 0.8013\n",
            "Epoch 7/70\n",
            "9/9 [==============================] - 48s 5s/step - loss: 1.3232 - accuracy: 0.8045 - val_loss: 2.0741 - val_accuracy: 0.8037\n",
            "Epoch 8/70\n",
            "9/9 [==============================] - 46s 5s/step - loss: 1.2625 - accuracy: 0.8067 - val_loss: 2.1172 - val_accuracy: 0.8020\n",
            "Epoch 9/70\n",
            "9/9 [==============================] - 46s 5s/step - loss: 1.2199 - accuracy: 0.8085 - val_loss: 2.1552 - val_accuracy: 0.8007\n",
            "Epoch 10/70\n",
            "9/9 [==============================] - 47s 5s/step - loss: 1.1764 - accuracy: 0.8107 - val_loss: 2.1788 - val_accuracy: 0.8000\n",
            "Epoch 11/70\n",
            "9/9 [==============================] - 46s 5s/step - loss: 1.1341 - accuracy: 0.8131 - val_loss: 2.2123 - val_accuracy: 0.7986\n",
            "Epoch 12/70\n",
            "9/9 [==============================] - 48s 5s/step - loss: 1.1036 - accuracy: 0.8158 - val_loss: 2.2644 - val_accuracy: 0.7990\n",
            "Epoch 13/70\n",
            "9/9 [==============================] - 46s 5s/step - loss: 1.0679 - accuracy: 0.8186 - val_loss: 2.2654 - val_accuracy: 0.7970\n",
            "Epoch 14/70\n",
            "9/9 [==============================] - 46s 5s/step - loss: 1.0388 - accuracy: 0.8203 - val_loss: 2.3053 - val_accuracy: 0.7967\n",
            "Epoch 15/70\n",
            "9/9 [==============================] - 46s 5s/step - loss: 1.0065 - accuracy: 0.8236 - val_loss: 2.3493 - val_accuracy: 0.7952\n",
            "Epoch 16/70\n",
            "9/9 [==============================] - 44s 5s/step - loss: 0.9822 - accuracy: 0.8254 - val_loss: 2.3776 - val_accuracy: 0.7950\n",
            "Epoch 17/70\n",
            "9/9 [==============================] - 46s 5s/step - loss: 0.9614 - accuracy: 0.8282 - val_loss: 2.3842 - val_accuracy: 0.7944\n",
            "Epoch 18/70\n",
            "9/9 [==============================] - 48s 5s/step - loss: 0.9322 - accuracy: 0.8300 - val_loss: 2.4031 - val_accuracy: 0.7960\n",
            "Epoch 19/70\n",
            "9/9 [==============================] - 46s 5s/step - loss: 0.9044 - accuracy: 0.8335 - val_loss: 2.4559 - val_accuracy: 0.7943\n",
            "Epoch 20/70\n",
            "9/9 [==============================] - 46s 5s/step - loss: 0.8839 - accuracy: 0.8356 - val_loss: 2.4757 - val_accuracy: 0.7939\n",
            "Epoch 21/70\n",
            "9/9 [==============================] - 46s 5s/step - loss: 0.8582 - accuracy: 0.8390 - val_loss: 2.4906 - val_accuracy: 0.7915\n",
            "Epoch 22/70\n",
            "9/9 [==============================] - 44s 5s/step - loss: 0.8386 - accuracy: 0.8409 - val_loss: 2.5126 - val_accuracy: 0.7948\n",
            "Epoch 23/70\n",
            "9/9 [==============================] - 51s 6s/step - loss: 0.8180 - accuracy: 0.8431 - val_loss: 2.5636 - val_accuracy: 0.7907\n",
            "Epoch 24/70\n",
            "9/9 [==============================] - 46s 5s/step - loss: 0.8037 - accuracy: 0.8451 - val_loss: 2.5691 - val_accuracy: 0.7900\n",
            "Epoch 25/70\n",
            "9/9 [==============================] - 46s 5s/step - loss: 0.7873 - accuracy: 0.8462 - val_loss: 2.6056 - val_accuracy: 0.7912\n",
            "Epoch 26/70\n",
            "9/9 [==============================] - 46s 5s/step - loss: 0.7740 - accuracy: 0.8482 - val_loss: 2.6401 - val_accuracy: 0.7893\n",
            "Epoch 27/70\n",
            "9/9 [==============================] - 46s 5s/step - loss: 0.7660 - accuracy: 0.8492 - val_loss: 2.6358 - val_accuracy: 0.7900\n",
            "Epoch 28/70\n",
            "9/9 [==============================] - 46s 5s/step - loss: 0.7555 - accuracy: 0.8513 - val_loss: 2.6515 - val_accuracy: 0.7896\n",
            "Epoch 29/70\n",
            "9/9 [==============================] - 46s 5s/step - loss: 0.7509 - accuracy: 0.8514 - val_loss: 2.6992 - val_accuracy: 0.7890\n",
            "Epoch 30/70\n",
            "9/9 [==============================] - 46s 5s/step - loss: 0.7389 - accuracy: 0.8534 - val_loss: 2.7080 - val_accuracy: 0.7905\n",
            "Epoch 31/70\n",
            "9/9 [==============================] - 46s 5s/step - loss: 0.7277 - accuracy: 0.8551 - val_loss: 2.7396 - val_accuracy: 0.7876\n",
            "Epoch 32/70\n",
            "9/9 [==============================] - 46s 5s/step - loss: 0.7225 - accuracy: 0.8557 - val_loss: 2.7441 - val_accuracy: 0.7875\n",
            "Epoch 33/70\n",
            "9/9 [==============================] - 47s 5s/step - loss: 0.7168 - accuracy: 0.8562 - val_loss: 2.7735 - val_accuracy: 0.7859\n",
            "Epoch 34/70\n",
            "9/9 [==============================] - 46s 5s/step - loss: 0.7157 - accuracy: 0.8565 - val_loss: 2.8074 - val_accuracy: 0.7869\n",
            "Epoch 35/70\n",
            "9/9 [==============================] - 46s 5s/step - loss: 0.7153 - accuracy: 0.8573 - val_loss: 2.8256 - val_accuracy: 0.7876\n",
            "Epoch 36/70\n",
            "9/9 [==============================] - 46s 5s/step - loss: 0.7034 - accuracy: 0.8590 - val_loss: 2.8381 - val_accuracy: 0.7871\n",
            "Epoch 37/70\n",
            "9/9 [==============================] - 46s 5s/step - loss: 0.6978 - accuracy: 0.8605 - val_loss: 2.8790 - val_accuracy: 0.7863\n",
            "Epoch 38/70\n",
            "9/9 [==============================] - 47s 5s/step - loss: 0.6972 - accuracy: 0.8600 - val_loss: 2.9023 - val_accuracy: 0.7852\n",
            "Epoch 39/70\n",
            "9/9 [==============================] - 48s 5s/step - loss: 0.6942 - accuracy: 0.8606 - val_loss: 2.9140 - val_accuracy: 0.7856\n",
            "Epoch 40/70\n",
            "9/9 [==============================] - 45s 5s/step - loss: 0.6974 - accuracy: 0.8599 - val_loss: 2.9193 - val_accuracy: 0.7847\n",
            "Epoch 41/70\n",
            "9/9 [==============================] - 46s 5s/step - loss: 0.6972 - accuracy: 0.8609 - val_loss: 2.9632 - val_accuracy: 0.7872\n",
            "Epoch 42/70\n",
            "9/9 [==============================] - 46s 5s/step - loss: 0.6962 - accuracy: 0.8612 - val_loss: 3.0350 - val_accuracy: 0.7871\n",
            "Epoch 43/70\n",
            "9/9 [==============================] - 46s 5s/step - loss: 0.7032 - accuracy: 0.8604 - val_loss: 3.0456 - val_accuracy: 0.7812\n",
            "Epoch 44/70\n",
            "9/9 [==============================] - 48s 5s/step - loss: 0.7019 - accuracy: 0.8608 - val_loss: 3.0089 - val_accuracy: 0.7886\n",
            "Epoch 45/70\n",
            "9/9 [==============================] - 44s 5s/step - loss: 0.7086 - accuracy: 0.8599 - val_loss: 3.0722 - val_accuracy: 0.7849\n",
            "Epoch 46/70\n",
            "9/9 [==============================] - 46s 5s/step - loss: 0.7133 - accuracy: 0.8595 - val_loss: 3.1491 - val_accuracy: 0.7825\n",
            "Epoch 47/70\n",
            "9/9 [==============================] - 46s 5s/step - loss: 0.7061 - accuracy: 0.8610 - val_loss: 3.0640 - val_accuracy: 0.7884\n",
            "Epoch 48/70\n",
            "9/9 [==============================] - 46s 5s/step - loss: 0.7125 - accuracy: 0.8594 - val_loss: 3.0773 - val_accuracy: 0.7878\n",
            "Epoch 49/70\n",
            "9/9 [==============================] - 46s 5s/step - loss: 0.7091 - accuracy: 0.8607 - val_loss: 3.0955 - val_accuracy: 0.7872\n",
            "Epoch 50/70\n",
            "9/9 [==============================] - 48s 5s/step - loss: 0.7049 - accuracy: 0.8616 - val_loss: 3.1379 - val_accuracy: 0.7831\n",
            "Epoch 51/70\n",
            "9/9 [==============================] - 44s 5s/step - loss: 0.7034 - accuracy: 0.8612 - val_loss: 3.1412 - val_accuracy: 0.7829\n",
            "Epoch 52/70\n",
            "9/9 [==============================] - 46s 5s/step - loss: 0.6950 - accuracy: 0.8628 - val_loss: 3.1434 - val_accuracy: 0.7845\n",
            "Epoch 53/70\n",
            "9/9 [==============================] - 46s 5s/step - loss: 0.6903 - accuracy: 0.8634 - val_loss: 3.1846 - val_accuracy: 0.7840\n",
            "Epoch 54/70\n",
            "9/9 [==============================] - 47s 5s/step - loss: 0.6905 - accuracy: 0.8624 - val_loss: 3.2090 - val_accuracy: 0.7806\n",
            "Epoch 55/70\n",
            "9/9 [==============================] - 48s 5s/step - loss: 0.7012 - accuracy: 0.8621 - val_loss: 3.1910 - val_accuracy: 0.7833\n",
            "Epoch 56/70\n",
            "9/9 [==============================] - 45s 5s/step - loss: 0.7004 - accuracy: 0.8613 - val_loss: 3.1891 - val_accuracy: 0.7821\n",
            "Epoch 57/70\n",
            "9/9 [==============================] - 45s 5s/step - loss: 0.6974 - accuracy: 0.8626 - val_loss: 3.2069 - val_accuracy: 0.7817\n",
            "Epoch 58/70\n",
            "9/9 [==============================] - 46s 5s/step - loss: 0.6995 - accuracy: 0.8626 - val_loss: 3.2868 - val_accuracy: 0.7835\n",
            "Epoch 59/70\n",
            "9/9 [==============================] - 46s 5s/step - loss: 0.6993 - accuracy: 0.8626 - val_loss: 3.2605 - val_accuracy: 0.7842\n",
            "Epoch 60/70\n",
            "9/9 [==============================] - 48s 5s/step - loss: 0.7123 - accuracy: 0.8613 - val_loss: 3.2479 - val_accuracy: 0.7822\n",
            "Epoch 61/70\n",
            "9/9 [==============================] - 46s 5s/step - loss: 0.7100 - accuracy: 0.8610 - val_loss: 3.2613 - val_accuracy: 0.7808\n",
            "Epoch 62/70\n",
            "9/9 [==============================] - 44s 5s/step - loss: 0.7091 - accuracy: 0.8619 - val_loss: 3.2813 - val_accuracy: 0.7838\n",
            "Epoch 63/70\n",
            "9/9 [==============================] - 46s 5s/step - loss: 0.7036 - accuracy: 0.8620 - val_loss: 3.3000 - val_accuracy: 0.7842\n",
            "Epoch 64/70\n",
            "9/9 [==============================] - 46s 5s/step - loss: 0.6900 - accuracy: 0.8638 - val_loss: 3.3292 - val_accuracy: 0.7805\n",
            "Epoch 65/70\n",
            "9/9 [==============================] - 48s 5s/step - loss: 0.6972 - accuracy: 0.8622 - val_loss: 3.3156 - val_accuracy: 0.7814\n",
            "Epoch 66/70\n",
            "9/9 [==============================] - 46s 5s/step - loss: 0.7092 - accuracy: 0.8610 - val_loss: 3.3387 - val_accuracy: 0.7836\n",
            "Epoch 67/70\n",
            "9/9 [==============================] - 46s 5s/step - loss: 0.7045 - accuracy: 0.8623 - val_loss: 3.3443 - val_accuracy: 0.7827\n",
            "Epoch 68/70\n",
            "9/9 [==============================] - 46s 5s/step - loss: 0.6955 - accuracy: 0.8631 - val_loss: 3.3628 - val_accuracy: 0.7843\n",
            "Epoch 69/70\n",
            "9/9 [==============================] - 44s 5s/step - loss: 0.7028 - accuracy: 0.8627 - val_loss: 3.3577 - val_accuracy: 0.7803\n",
            "Epoch 70/70\n",
            "9/9 [==============================] - 46s 5s/step - loss: 0.6991 - accuracy: 0.8635 - val_loss: 3.3784 - val_accuracy: 0.7816\n"
          ]
        }
      ]
    },
    {
      "cell_type": "code",
      "source": [
        "embed_rnn_model.save(os.path.join(\"model\", \"LSTM3.h5\"))"
      ],
      "metadata": {
        "id": "iaDC1Qu0WkVZ"
      },
      "execution_count": 47,
      "outputs": []
    },
    {
      "cell_type": "code",
      "source": [
        "train_score = embed_rnn_model.evaluate(x_train, y_train, verbose=0)\n",
        "print(\" Train Accuracy: \", train_score[1])"
      ],
      "metadata": {
        "id": "H-CeVIQoWkZC",
        "colab": {
          "base_uri": "https://localhost:8080/"
        },
        "outputId": "6783520b-4e43-4f3e-ca5f-8f3eb8dd4286"
      },
      "execution_count": 48,
      "outputs": [
        {
          "output_type": "stream",
          "name": "stdout",
          "text": [
            " Train Accuracy:  0.8674163222312927\n"
          ]
        }
      ]
    },
    {
      "cell_type": "code",
      "source": [
        "test_score = embed_rnn_model.evaluate(x_test, y_test, verbose=0)\n",
        "print(\" Test Accuracy: \", test_score[1])"
      ],
      "metadata": {
        "id": "YjFbqFQ1WkrR",
        "colab": {
          "base_uri": "https://localhost:8080/"
        },
        "outputId": "468c9c48-6709-4439-b74c-0159b5038cc2"
      },
      "execution_count": 49,
      "outputs": [
        {
          "output_type": "stream",
          "name": "stdout",
          "text": [
            " Test Accuracy:  0.780647337436676\n"
          ]
        }
      ]
    },
    {
      "cell_type": "code",
      "source": [
        "def embed_model3(input_shape, output_sequence_length, tamil_vocab_size, english_vocab_size, learning_rate=0.1):\n",
        "    model = Sequential()\n",
        "    model.add(Embedding(max(tamil_vocab_size, english_vocab_size) ,128 , input_length=output_sequence_length))\n",
        "    model.add(LSTM(128, dropout=0.2, return_sequences=True))\n",
        "    model.add(Dense(english_vocab_size, activation='sigmoid'))\n",
        "    model.summary()\n",
        "    model.compile(loss=sparse_categorical_crossentropy,\n",
        "                  optimizer=Adam(learning_rate),\n",
        "                  metrics=['accuracy'])\n",
        "    \n",
        "    return model"
      ],
      "metadata": {
        "id": "Sf5RoPzIWk_h"
      },
      "execution_count": 50,
      "outputs": []
    },
    {
      "cell_type": "code",
      "source": [
        "embed_rnn_model = embed_model3(\n",
        "    x_train.shape,\n",
        "    y_train.shape[1],\n",
        "    len(tamil_tokenizer.word_index)+1,\n",
        "    len(english_tokenizer.word_index)+1)\n",
        "if os.path.exists(os.path.join(\"cache\", \"LSTM4.h5\"))== False:\n",
        "    embedrnn = embed_rnn_model.fit(x_train, y_train, batch_size=150, epochs=70, validation_split=0.2)\n",
        "else:\n",
        "    embed_rnn_model = load_model(os.path.join(\"cache\", \"LSTM4.h5\"))"
      ],
      "metadata": {
        "id": "e_fLSPP5XDN0",
        "colab": {
          "base_uri": "https://localhost:8080/"
        },
        "outputId": "9b2edbd7-25a6-4963-f142-6112dcf48cdb"
      },
      "execution_count": 51,
      "outputs": [
        {
          "output_type": "stream",
          "name": "stdout",
          "text": [
            "Model: \"sequential_1\"\n",
            "_________________________________________________________________\n",
            " Layer (type)                Output Shape              Param #   \n",
            "=================================================================\n",
            " embedding_1 (Embedding)     (None, 112, 128)          2048768   \n",
            "                                                                 \n",
            " lstm_1 (LSTM)               (None, 112, 128)          131584    \n",
            "                                                                 \n",
            " dense_1 (Dense)             (None, 112, 8537)         1101273   \n",
            "                                                                 \n",
            "=================================================================\n",
            "Total params: 3,281,625\n",
            "Trainable params: 3,281,625\n",
            "Non-trainable params: 0\n",
            "_________________________________________________________________\n",
            "Epoch 1/70\n",
            "9/9 [==============================] - 45s 5s/step - loss: 4.8133 - accuracy: 0.7008 - val_loss: 4.5991 - val_accuracy: 0.7986\n",
            "Epoch 2/70\n",
            "9/9 [==============================] - 42s 5s/step - loss: 3.8224 - accuracy: 0.7930 - val_loss: 3.9539 - val_accuracy: 0.7964\n",
            "Epoch 3/70\n",
            "9/9 [==============================] - 41s 5s/step - loss: 2.8264 - accuracy: 0.7928 - val_loss: 2.9981 - val_accuracy: 0.7965\n",
            "Epoch 4/70\n",
            "9/9 [==============================] - 42s 5s/step - loss: 2.3003 - accuracy: 0.7944 - val_loss: 2.5298 - val_accuracy: 0.8005\n",
            "Epoch 5/70\n",
            "9/9 [==============================] - 44s 5s/step - loss: 1.9945 - accuracy: 0.7966 - val_loss: 2.2151 - val_accuracy: 0.7961\n",
            "Epoch 6/70\n",
            "9/9 [==============================] - 42s 5s/step - loss: 1.7965 - accuracy: 0.7957 - val_loss: 2.0635 - val_accuracy: 0.7990\n",
            "Epoch 7/70\n",
            "9/9 [==============================] - 42s 5s/step - loss: 1.6820 - accuracy: 0.7984 - val_loss: 1.9957 - val_accuracy: 0.7991\n",
            "Epoch 8/70\n",
            "9/9 [==============================] - 40s 5s/step - loss: 1.6022 - accuracy: 0.7985 - val_loss: 2.0293 - val_accuracy: 0.7996\n",
            "Epoch 9/70\n",
            "9/9 [==============================] - 42s 5s/step - loss: 1.5288 - accuracy: 0.8001 - val_loss: 1.9486 - val_accuracy: 0.7996\n",
            "Epoch 10/70\n",
            "9/9 [==============================] - 42s 5s/step - loss: 1.4781 - accuracy: 0.8006 - val_loss: 1.9362 - val_accuracy: 0.8008\n",
            "Epoch 11/70\n",
            "9/9 [==============================] - 44s 5s/step - loss: 1.4403 - accuracy: 0.8022 - val_loss: 1.9421 - val_accuracy: 0.8002\n",
            "Epoch 12/70\n",
            "9/9 [==============================] - 43s 5s/step - loss: 1.4142 - accuracy: 0.8031 - val_loss: 1.9636 - val_accuracy: 0.8013\n",
            "Epoch 13/70\n",
            "9/9 [==============================] - 42s 5s/step - loss: 1.3866 - accuracy: 0.8047 - val_loss: 1.9620 - val_accuracy: 0.8009\n",
            "Epoch 14/70\n",
            "9/9 [==============================] - 42s 5s/step - loss: 1.3591 - accuracy: 0.8058 - val_loss: 1.9550 - val_accuracy: 0.8016\n",
            "Epoch 15/70\n",
            "9/9 [==============================] - 42s 5s/step - loss: 1.3413 - accuracy: 0.8067 - val_loss: 2.0068 - val_accuracy: 0.8003\n",
            "Epoch 16/70\n",
            "9/9 [==============================] - 44s 5s/step - loss: 1.3323 - accuracy: 0.8068 - val_loss: 1.9843 - val_accuracy: 0.8016\n",
            "Epoch 17/70\n",
            "9/9 [==============================] - 40s 5s/step - loss: 1.3133 - accuracy: 0.8079 - val_loss: 2.0317 - val_accuracy: 0.8010\n",
            "Epoch 18/70\n",
            "9/9 [==============================] - 42s 5s/step - loss: 1.2982 - accuracy: 0.8088 - val_loss: 2.0137 - val_accuracy: 0.7993\n",
            "Epoch 19/70\n",
            "9/9 [==============================] - 42s 5s/step - loss: 1.2882 - accuracy: 0.8091 - val_loss: 2.0862 - val_accuracy: 0.7995\n",
            "Epoch 20/70\n",
            "9/9 [==============================] - 42s 5s/step - loss: 1.2782 - accuracy: 0.8095 - val_loss: 2.0436 - val_accuracy: 0.7986\n",
            "Epoch 21/70\n",
            "9/9 [==============================] - 40s 5s/step - loss: 1.2689 - accuracy: 0.8101 - val_loss: 2.0376 - val_accuracy: 0.7997\n",
            "Epoch 22/70\n",
            "9/9 [==============================] - 44s 5s/step - loss: 1.2582 - accuracy: 0.8107 - val_loss: 2.0442 - val_accuracy: 0.7993\n",
            "Epoch 23/70\n",
            "9/9 [==============================] - 42s 5s/step - loss: 1.2524 - accuracy: 0.8114 - val_loss: 2.0980 - val_accuracy: 0.7975\n",
            "Epoch 24/70\n",
            "9/9 [==============================] - 42s 5s/step - loss: 1.2484 - accuracy: 0.8118 - val_loss: 2.0770 - val_accuracy: 0.7987\n",
            "Epoch 25/70\n",
            "9/9 [==============================] - 42s 5s/step - loss: 1.2384 - accuracy: 0.8120 - val_loss: 2.1006 - val_accuracy: 0.7968\n",
            "Epoch 26/70\n",
            "9/9 [==============================] - 44s 5s/step - loss: 1.2215 - accuracy: 0.8132 - val_loss: 2.1014 - val_accuracy: 0.7991\n",
            "Epoch 27/70\n",
            "9/9 [==============================] - 44s 5s/step - loss: 1.2067 - accuracy: 0.8135 - val_loss: 2.1089 - val_accuracy: 0.7979\n",
            "Epoch 28/70\n",
            "9/9 [==============================] - 42s 5s/step - loss: 1.1948 - accuracy: 0.8143 - val_loss: 2.1332 - val_accuracy: 0.7973\n",
            "Epoch 29/70\n",
            "9/9 [==============================] - 42s 5s/step - loss: 1.1910 - accuracy: 0.8149 - val_loss: 2.1400 - val_accuracy: 0.7972\n",
            "Epoch 30/70\n",
            "9/9 [==============================] - 41s 5s/step - loss: 1.1834 - accuracy: 0.8158 - val_loss: 2.1550 - val_accuracy: 0.7972\n",
            "Epoch 31/70\n",
            "9/9 [==============================] - 42s 5s/step - loss: 1.1702 - accuracy: 0.8161 - val_loss: 2.1815 - val_accuracy: 0.7967\n",
            "Epoch 32/70\n",
            "9/9 [==============================] - 42s 5s/step - loss: 1.1567 - accuracy: 0.8171 - val_loss: 2.2166 - val_accuracy: 0.7959\n",
            "Epoch 33/70\n",
            "9/9 [==============================] - 44s 5s/step - loss: 1.1478 - accuracy: 0.8170 - val_loss: 2.2041 - val_accuracy: 0.7951\n",
            "Epoch 34/70\n",
            "9/9 [==============================] - 42s 5s/step - loss: 1.1376 - accuracy: 0.8179 - val_loss: 2.2151 - val_accuracy: 0.7947\n",
            "Epoch 35/70\n",
            "9/9 [==============================] - 40s 5s/step - loss: 1.1313 - accuracy: 0.8183 - val_loss: 2.2310 - val_accuracy: 0.7959\n",
            "Epoch 36/70\n",
            "9/9 [==============================] - 43s 5s/step - loss: 1.1309 - accuracy: 0.8188 - val_loss: 2.2397 - val_accuracy: 0.7958\n",
            "Epoch 37/70\n",
            "9/9 [==============================] - 42s 5s/step - loss: 1.1205 - accuracy: 0.8197 - val_loss: 2.2632 - val_accuracy: 0.7949\n",
            "Epoch 38/70\n",
            "9/9 [==============================] - 45s 5s/step - loss: 1.1176 - accuracy: 0.8196 - val_loss: 2.2764 - val_accuracy: 0.7952\n",
            "Epoch 39/70\n",
            "9/9 [==============================] - 41s 5s/step - loss: 1.1174 - accuracy: 0.8199 - val_loss: 2.2769 - val_accuracy: 0.7953\n",
            "Epoch 40/70\n",
            "9/9 [==============================] - 45s 5s/step - loss: 1.1070 - accuracy: 0.8206 - val_loss: 2.2963 - val_accuracy: 0.7960\n",
            "Epoch 41/70\n",
            "9/9 [==============================] - 43s 5s/step - loss: 1.1012 - accuracy: 0.8208 - val_loss: 2.2906 - val_accuracy: 0.7973\n",
            "Epoch 42/70\n",
            "9/9 [==============================] - 43s 5s/step - loss: 1.0843 - accuracy: 0.8222 - val_loss: 2.3146 - val_accuracy: 0.7955\n",
            "Epoch 43/70\n",
            "9/9 [==============================] - 43s 5s/step - loss: 1.0800 - accuracy: 0.8230 - val_loss: 2.3338 - val_accuracy: 0.7951\n",
            "Epoch 44/70\n",
            "9/9 [==============================] - 43s 5s/step - loss: 1.0746 - accuracy: 0.8226 - val_loss: 2.3394 - val_accuracy: 0.7951\n",
            "Epoch 45/70\n",
            "9/9 [==============================] - 43s 5s/step - loss: 1.0642 - accuracy: 0.8245 - val_loss: 2.3605 - val_accuracy: 0.7930\n",
            "Epoch 46/70\n",
            "9/9 [==============================] - 43s 5s/step - loss: 1.0663 - accuracy: 0.8238 - val_loss: 2.4006 - val_accuracy: 0.7937\n",
            "Epoch 47/70\n",
            "9/9 [==============================] - 43s 5s/step - loss: 1.0605 - accuracy: 0.8246 - val_loss: 2.3814 - val_accuracy: 0.7940\n",
            "Epoch 48/70\n",
            "9/9 [==============================] - 45s 5s/step - loss: 1.0559 - accuracy: 0.8246 - val_loss: 2.3827 - val_accuracy: 0.7941\n",
            "Epoch 49/70\n",
            "9/9 [==============================] - 43s 5s/step - loss: 1.0513 - accuracy: 0.8248 - val_loss: 2.4145 - val_accuracy: 0.7938\n",
            "Epoch 50/70\n",
            "9/9 [==============================] - 43s 5s/step - loss: 1.0466 - accuracy: 0.8257 - val_loss: 2.4050 - val_accuracy: 0.7935\n",
            "Epoch 51/70\n",
            "9/9 [==============================] - 42s 5s/step - loss: 1.0359 - accuracy: 0.8263 - val_loss: 2.4432 - val_accuracy: 0.7908\n",
            "Epoch 52/70\n",
            "9/9 [==============================] - 43s 5s/step - loss: 1.0347 - accuracy: 0.8265 - val_loss: 2.4553 - val_accuracy: 0.7932\n",
            "Epoch 53/70\n",
            "9/9 [==============================] - 43s 5s/step - loss: 1.0281 - accuracy: 0.8277 - val_loss: 2.4712 - val_accuracy: 0.7919\n",
            "Epoch 54/70\n",
            "9/9 [==============================] - 43s 5s/step - loss: 1.0178 - accuracy: 0.8273 - val_loss: 2.4462 - val_accuracy: 0.7951\n",
            "Epoch 55/70\n",
            "9/9 [==============================] - 43s 5s/step - loss: 1.0177 - accuracy: 0.8277 - val_loss: 2.4648 - val_accuracy: 0.7957\n",
            "Epoch 56/70\n",
            "9/9 [==============================] - 43s 5s/step - loss: 1.0164 - accuracy: 0.8284 - val_loss: 2.4904 - val_accuracy: 0.7919\n",
            "Epoch 57/70\n",
            "9/9 [==============================] - 43s 5s/step - loss: 1.0131 - accuracy: 0.8281 - val_loss: 2.5022 - val_accuracy: 0.7939\n",
            "Epoch 58/70\n",
            "9/9 [==============================] - 43s 5s/step - loss: 1.0193 - accuracy: 0.8284 - val_loss: 2.5192 - val_accuracy: 0.7922\n",
            "Epoch 59/70\n",
            "9/9 [==============================] - 43s 5s/step - loss: 1.0100 - accuracy: 0.8287 - val_loss: 2.5190 - val_accuracy: 0.7930\n",
            "Epoch 60/70\n",
            "9/9 [==============================] - 42s 5s/step - loss: 1.0000 - accuracy: 0.8296 - val_loss: 2.5577 - val_accuracy: 0.7896\n",
            "Epoch 61/70\n",
            "9/9 [==============================] - 43s 5s/step - loss: 0.9935 - accuracy: 0.8293 - val_loss: 2.5456 - val_accuracy: 0.7926\n",
            "Epoch 62/70\n",
            "9/9 [==============================] - 43s 5s/step - loss: 0.9897 - accuracy: 0.8305 - val_loss: 2.5461 - val_accuracy: 0.7909\n",
            "Epoch 63/70\n",
            "9/9 [==============================] - 43s 5s/step - loss: 0.9833 - accuracy: 0.8306 - val_loss: 2.5623 - val_accuracy: 0.7920\n",
            "Epoch 64/70\n",
            "9/9 [==============================] - 41s 5s/step - loss: 0.9851 - accuracy: 0.8305 - val_loss: 2.5773 - val_accuracy: 0.7924\n",
            "Epoch 65/70\n",
            "9/9 [==============================] - 45s 5s/step - loss: 0.9715 - accuracy: 0.8319 - val_loss: 2.5907 - val_accuracy: 0.7912\n",
            "Epoch 66/70\n",
            "9/9 [==============================] - 43s 5s/step - loss: 0.9693 - accuracy: 0.8323 - val_loss: 2.5963 - val_accuracy: 0.7893\n",
            "Epoch 67/70\n",
            "9/9 [==============================] - 43s 5s/step - loss: 0.9703 - accuracy: 0.8320 - val_loss: 2.5989 - val_accuracy: 0.7907\n",
            "Epoch 68/70\n",
            "9/9 [==============================] - 43s 5s/step - loss: 0.9675 - accuracy: 0.8315 - val_loss: 2.5963 - val_accuracy: 0.7904\n",
            "Epoch 69/70\n",
            "9/9 [==============================] - 41s 5s/step - loss: 0.9586 - accuracy: 0.8322 - val_loss: 2.6158 - val_accuracy: 0.7930\n",
            "Epoch 70/70\n",
            "9/9 [==============================] - 44s 5s/step - loss: 0.9537 - accuracy: 0.8326 - val_loss: 2.6269 - val_accuracy: 0.7921\n"
          ]
        }
      ]
    },
    {
      "cell_type": "code",
      "source": [
        "embed_rnn_model.save(os.path.join(\"model\", \"LSTM4.h5\"))"
      ],
      "metadata": {
        "id": "Jn4f5UMMXDSh"
      },
      "execution_count": 52,
      "outputs": []
    },
    {
      "cell_type": "code",
      "source": [
        "train_score = embed_rnn_model.evaluate(x_train, y_train, verbose=0)\n",
        "print(\" Train Accuracy: \", train_score[1])"
      ],
      "metadata": {
        "id": "StFSO_-rXDY1",
        "colab": {
          "base_uri": "https://localhost:8080/"
        },
        "outputId": "7d1d04ef-6c1f-473e-945e-8b711c3475b6"
      },
      "execution_count": 53,
      "outputs": [
        {
          "output_type": "stream",
          "name": "stdout",
          "text": [
            " Train Accuracy:  0.8353962302207947\n"
          ]
        }
      ]
    },
    {
      "cell_type": "code",
      "source": [
        "test_score = embed_rnn_model.evaluate(x_test, y_test, verbose=0)\n",
        "print(\" Test Accuracy: \", test_score[1])"
      ],
      "metadata": {
        "id": "uP9Oo-zwXDci",
        "colab": {
          "base_uri": "https://localhost:8080/"
        },
        "outputId": "ff489d9d-d535-49e9-e18d-974fad690cea"
      },
      "execution_count": 54,
      "outputs": [
        {
          "output_type": "stream",
          "name": "stdout",
          "text": [
            " Test Accuracy:  0.7931919693946838\n"
          ]
        }
      ]
    }
  ],
  "metadata": {
    "colab": {
      "provenance": [],
      "collapsed_sections": []
    },
    "kernelspec": {
      "display_name": "Python 3",
      "name": "python3"
    },
    "language_info": {
      "name": "python"
    }
  },
  "nbformat": 4,
  "nbformat_minor": 0
}